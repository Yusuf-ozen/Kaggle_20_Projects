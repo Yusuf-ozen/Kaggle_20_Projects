{
 "cells": [
  {
   "cell_type": "markdown",
   "id": "e7d990a0",
   "metadata": {},
   "source": [
    "### Kutuphaneleri kuralım"
   ]
  },
  {
   "cell_type": "code",
   "execution_count": 14,
   "id": "a7758e3f",
   "metadata": {},
   "outputs": [],
   "source": [
    "import numpy as np\n",
    "import pandas as pd\n",
    "import matplotlib.pyplot as plt\n",
    "import seaborn as sbn\n",
    "import warnings\n",
    "warnings.filterwarnings('ignore')\n",
    "from sklearn.model_selection import train_test_split\n",
    "from sklearn.linear_model import LogisticRegression\n",
    "from sklearn.tree import DecisionTreeClassifier\n",
    "from sklearn.ensemble import RandomForestClassifier\n",
    "from sklearn.naive_bayes import BernoulliNB, GaussianNB\n",
    "from sklearn.svm import SVC\n",
    "from sklearn.ensemble import GradientBoostingClassifier, AdaBoostClassifier, HistGradientBoostingClassifier, BaggingClassifier\n",
    "from xgboost import XGBClassifier\n",
    "from sklearn.preprocessing import StandardScaler, MinMaxScaler\n",
    "from sklearn.metrics import accuracy_score\n",
    "from tensorflow.keras.models import Sequential\n",
    "from tensorflow.keras.layers import Dense\n",
    "from tensorflow.keras.callbacks import EarlyStopping"
   ]
  },
  {
   "cell_type": "markdown",
   "id": "056cf6fc",
   "metadata": {},
   "source": [
    "### Verileri Çekelim"
   ]
  },
  {
   "cell_type": "code",
   "execution_count": 3,
   "id": "610ace12",
   "metadata": {},
   "outputs": [],
   "source": [
    "train_data = pd.read_csv('train.csv')\n",
    "test_data = pd.read_csv('test.csv')\n",
    "sample_submission = pd.read_csv('sample_submission.csv')"
   ]
  },
  {
   "cell_type": "markdown",
   "id": "e239208f",
   "metadata": {},
   "source": [
    "### Verileri inceleyelim"
   ]
  },
  {
   "cell_type": "code",
   "execution_count": 4,
   "id": "9061d701",
   "metadata": {},
   "outputs": [
    {
     "data": {
      "text/html": [
       "<div>\n",
       "<style scoped>\n",
       "    .dataframe tbody tr th:only-of-type {\n",
       "        vertical-align: middle;\n",
       "    }\n",
       "\n",
       "    .dataframe tbody tr th {\n",
       "        vertical-align: top;\n",
       "    }\n",
       "\n",
       "    .dataframe thead th {\n",
       "        text-align: right;\n",
       "    }\n",
       "</style>\n",
       "<table border=\"1\" class=\"dataframe\">\n",
       "  <thead>\n",
       "    <tr style=\"text-align: right;\">\n",
       "      <th></th>\n",
       "      <th>id</th>\n",
       "      <th>gravity</th>\n",
       "      <th>ph</th>\n",
       "      <th>osmo</th>\n",
       "      <th>cond</th>\n",
       "      <th>urea</th>\n",
       "      <th>calc</th>\n",
       "      <th>target</th>\n",
       "    </tr>\n",
       "  </thead>\n",
       "  <tbody>\n",
       "    <tr>\n",
       "      <th>0</th>\n",
       "      <td>0</td>\n",
       "      <td>1.013</td>\n",
       "      <td>6.19</td>\n",
       "      <td>443</td>\n",
       "      <td>14.8</td>\n",
       "      <td>124</td>\n",
       "      <td>1.45</td>\n",
       "      <td>0</td>\n",
       "    </tr>\n",
       "    <tr>\n",
       "      <th>1</th>\n",
       "      <td>1</td>\n",
       "      <td>1.025</td>\n",
       "      <td>5.40</td>\n",
       "      <td>703</td>\n",
       "      <td>23.6</td>\n",
       "      <td>394</td>\n",
       "      <td>4.18</td>\n",
       "      <td>0</td>\n",
       "    </tr>\n",
       "    <tr>\n",
       "      <th>2</th>\n",
       "      <td>2</td>\n",
       "      <td>1.009</td>\n",
       "      <td>6.13</td>\n",
       "      <td>371</td>\n",
       "      <td>24.5</td>\n",
       "      <td>159</td>\n",
       "      <td>9.04</td>\n",
       "      <td>0</td>\n",
       "    </tr>\n",
       "    <tr>\n",
       "      <th>3</th>\n",
       "      <td>3</td>\n",
       "      <td>1.021</td>\n",
       "      <td>4.91</td>\n",
       "      <td>442</td>\n",
       "      <td>20.8</td>\n",
       "      <td>398</td>\n",
       "      <td>6.63</td>\n",
       "      <td>1</td>\n",
       "    </tr>\n",
       "    <tr>\n",
       "      <th>4</th>\n",
       "      <td>4</td>\n",
       "      <td>1.021</td>\n",
       "      <td>5.53</td>\n",
       "      <td>874</td>\n",
       "      <td>17.8</td>\n",
       "      <td>385</td>\n",
       "      <td>2.21</td>\n",
       "      <td>1</td>\n",
       "    </tr>\n",
       "  </tbody>\n",
       "</table>\n",
       "</div>"
      ],
      "text/plain": [
       "   id  gravity    ph  osmo  cond  urea  calc  target\n",
       "0   0    1.013  6.19   443  14.8   124  1.45       0\n",
       "1   1    1.025  5.40   703  23.6   394  4.18       0\n",
       "2   2    1.009  6.13   371  24.5   159  9.04       0\n",
       "3   3    1.021  4.91   442  20.8   398  6.63       1\n",
       "4   4    1.021  5.53   874  17.8   385  2.21       1"
      ]
     },
     "execution_count": 4,
     "metadata": {},
     "output_type": "execute_result"
    }
   ],
   "source": [
    "train_data.head()"
   ]
  },
  {
   "cell_type": "code",
   "execution_count": 5,
   "id": "0d40a932",
   "metadata": {},
   "outputs": [
    {
     "name": "stdout",
     "output_type": "stream",
     "text": [
      "<class 'pandas.core.frame.DataFrame'>\n",
      "RangeIndex: 414 entries, 0 to 413\n",
      "Data columns (total 8 columns):\n",
      " #   Column   Non-Null Count  Dtype  \n",
      "---  ------   --------------  -----  \n",
      " 0   id       414 non-null    int64  \n",
      " 1   gravity  414 non-null    float64\n",
      " 2   ph       414 non-null    float64\n",
      " 3   osmo     414 non-null    int64  \n",
      " 4   cond     414 non-null    float64\n",
      " 5   urea     414 non-null    int64  \n",
      " 6   calc     414 non-null    float64\n",
      " 7   target   414 non-null    int64  \n",
      "dtypes: float64(4), int64(4)\n",
      "memory usage: 26.0 KB\n"
     ]
    }
   ],
   "source": [
    "train_data.info()"
   ]
  },
  {
   "cell_type": "code",
   "execution_count": 6,
   "id": "55826bea",
   "metadata": {},
   "outputs": [
    {
     "data": {
      "text/plain": [
       "id         0\n",
       "gravity    0\n",
       "ph         0\n",
       "osmo       0\n",
       "cond       0\n",
       "urea       0\n",
       "calc       0\n",
       "target     0\n",
       "dtype: int64"
      ]
     },
     "execution_count": 6,
     "metadata": {},
     "output_type": "execute_result"
    }
   ],
   "source": [
    "train_data.isnull().sum()"
   ]
  },
  {
   "cell_type": "code",
   "execution_count": 7,
   "id": "78f7776a",
   "metadata": {},
   "outputs": [
    {
     "data": {
      "text/html": [
       "<div>\n",
       "<style scoped>\n",
       "    .dataframe tbody tr th:only-of-type {\n",
       "        vertical-align: middle;\n",
       "    }\n",
       "\n",
       "    .dataframe tbody tr th {\n",
       "        vertical-align: top;\n",
       "    }\n",
       "\n",
       "    .dataframe thead th {\n",
       "        text-align: right;\n",
       "    }\n",
       "</style>\n",
       "<table border=\"1\" class=\"dataframe\">\n",
       "  <thead>\n",
       "    <tr style=\"text-align: right;\">\n",
       "      <th></th>\n",
       "      <th>id</th>\n",
       "      <th>gravity</th>\n",
       "      <th>ph</th>\n",
       "      <th>osmo</th>\n",
       "      <th>cond</th>\n",
       "      <th>urea</th>\n",
       "      <th>calc</th>\n",
       "      <th>target</th>\n",
       "    </tr>\n",
       "  </thead>\n",
       "  <tbody>\n",
       "    <tr>\n",
       "      <th>count</th>\n",
       "      <td>414.000000</td>\n",
       "      <td>414.000000</td>\n",
       "      <td>414.000000</td>\n",
       "      <td>414.000000</td>\n",
       "      <td>414.000000</td>\n",
       "      <td>414.000000</td>\n",
       "      <td>414.000000</td>\n",
       "      <td>414.000000</td>\n",
       "    </tr>\n",
       "    <tr>\n",
       "      <th>mean</th>\n",
       "      <td>206.500000</td>\n",
       "      <td>1.017894</td>\n",
       "      <td>5.955459</td>\n",
       "      <td>651.545894</td>\n",
       "      <td>21.437923</td>\n",
       "      <td>278.657005</td>\n",
       "      <td>4.114638</td>\n",
       "      <td>0.444444</td>\n",
       "    </tr>\n",
       "    <tr>\n",
       "      <th>std</th>\n",
       "      <td>119.655756</td>\n",
       "      <td>0.006675</td>\n",
       "      <td>0.642260</td>\n",
       "      <td>234.676567</td>\n",
       "      <td>7.514750</td>\n",
       "      <td>136.442249</td>\n",
       "      <td>3.217641</td>\n",
       "      <td>0.497505</td>\n",
       "    </tr>\n",
       "    <tr>\n",
       "      <th>min</th>\n",
       "      <td>0.000000</td>\n",
       "      <td>1.005000</td>\n",
       "      <td>4.760000</td>\n",
       "      <td>187.000000</td>\n",
       "      <td>5.100000</td>\n",
       "      <td>10.000000</td>\n",
       "      <td>0.170000</td>\n",
       "      <td>0.000000</td>\n",
       "    </tr>\n",
       "    <tr>\n",
       "      <th>25%</th>\n",
       "      <td>103.250000</td>\n",
       "      <td>1.012000</td>\n",
       "      <td>5.530000</td>\n",
       "      <td>455.250000</td>\n",
       "      <td>15.500000</td>\n",
       "      <td>170.000000</td>\n",
       "      <td>1.450000</td>\n",
       "      <td>0.000000</td>\n",
       "    </tr>\n",
       "    <tr>\n",
       "      <th>50%</th>\n",
       "      <td>206.500000</td>\n",
       "      <td>1.018000</td>\n",
       "      <td>5.740000</td>\n",
       "      <td>679.500000</td>\n",
       "      <td>22.200000</td>\n",
       "      <td>277.000000</td>\n",
       "      <td>3.130000</td>\n",
       "      <td>0.000000</td>\n",
       "    </tr>\n",
       "    <tr>\n",
       "      <th>75%</th>\n",
       "      <td>309.750000</td>\n",
       "      <td>1.022000</td>\n",
       "      <td>6.280000</td>\n",
       "      <td>840.000000</td>\n",
       "      <td>27.600000</td>\n",
       "      <td>385.000000</td>\n",
       "      <td>6.630000</td>\n",
       "      <td>1.000000</td>\n",
       "    </tr>\n",
       "    <tr>\n",
       "      <th>max</th>\n",
       "      <td>413.000000</td>\n",
       "      <td>1.040000</td>\n",
       "      <td>7.940000</td>\n",
       "      <td>1236.000000</td>\n",
       "      <td>38.000000</td>\n",
       "      <td>620.000000</td>\n",
       "      <td>14.340000</td>\n",
       "      <td>1.000000</td>\n",
       "    </tr>\n",
       "  </tbody>\n",
       "</table>\n",
       "</div>"
      ],
      "text/plain": [
       "               id     gravity          ph         osmo        cond  \\\n",
       "count  414.000000  414.000000  414.000000   414.000000  414.000000   \n",
       "mean   206.500000    1.017894    5.955459   651.545894   21.437923   \n",
       "std    119.655756    0.006675    0.642260   234.676567    7.514750   \n",
       "min      0.000000    1.005000    4.760000   187.000000    5.100000   \n",
       "25%    103.250000    1.012000    5.530000   455.250000   15.500000   \n",
       "50%    206.500000    1.018000    5.740000   679.500000   22.200000   \n",
       "75%    309.750000    1.022000    6.280000   840.000000   27.600000   \n",
       "max    413.000000    1.040000    7.940000  1236.000000   38.000000   \n",
       "\n",
       "             urea        calc      target  \n",
       "count  414.000000  414.000000  414.000000  \n",
       "mean   278.657005    4.114638    0.444444  \n",
       "std    136.442249    3.217641    0.497505  \n",
       "min     10.000000    0.170000    0.000000  \n",
       "25%    170.000000    1.450000    0.000000  \n",
       "50%    277.000000    3.130000    0.000000  \n",
       "75%    385.000000    6.630000    1.000000  \n",
       "max    620.000000   14.340000    1.000000  "
      ]
     },
     "execution_count": 7,
     "metadata": {},
     "output_type": "execute_result"
    }
   ],
   "source": [
    "train_data.describe()"
   ]
  },
  {
   "cell_type": "code",
   "execution_count": 9,
   "id": "a330975f",
   "metadata": {},
   "outputs": [
    {
     "data": {
      "text/html": [
       "<div>\n",
       "<style scoped>\n",
       "    .dataframe tbody tr th:only-of-type {\n",
       "        vertical-align: middle;\n",
       "    }\n",
       "\n",
       "    .dataframe tbody tr th {\n",
       "        vertical-align: top;\n",
       "    }\n",
       "\n",
       "    .dataframe thead th {\n",
       "        text-align: right;\n",
       "    }\n",
       "</style>\n",
       "<table border=\"1\" class=\"dataframe\">\n",
       "  <thead>\n",
       "    <tr style=\"text-align: right;\">\n",
       "      <th></th>\n",
       "      <th>id</th>\n",
       "      <th>gravity</th>\n",
       "      <th>ph</th>\n",
       "      <th>osmo</th>\n",
       "      <th>cond</th>\n",
       "      <th>urea</th>\n",
       "      <th>calc</th>\n",
       "    </tr>\n",
       "  </thead>\n",
       "  <tbody>\n",
       "    <tr>\n",
       "      <th>0</th>\n",
       "      <td>414</td>\n",
       "      <td>1.017</td>\n",
       "      <td>5.24</td>\n",
       "      <td>345</td>\n",
       "      <td>11.5</td>\n",
       "      <td>152</td>\n",
       "      <td>1.16</td>\n",
       "    </tr>\n",
       "    <tr>\n",
       "      <th>1</th>\n",
       "      <td>415</td>\n",
       "      <td>1.020</td>\n",
       "      <td>5.68</td>\n",
       "      <td>874</td>\n",
       "      <td>29.0</td>\n",
       "      <td>385</td>\n",
       "      <td>3.46</td>\n",
       "    </tr>\n",
       "    <tr>\n",
       "      <th>2</th>\n",
       "      <td>416</td>\n",
       "      <td>1.024</td>\n",
       "      <td>5.36</td>\n",
       "      <td>698</td>\n",
       "      <td>19.5</td>\n",
       "      <td>354</td>\n",
       "      <td>13.00</td>\n",
       "    </tr>\n",
       "    <tr>\n",
       "      <th>3</th>\n",
       "      <td>417</td>\n",
       "      <td>1.020</td>\n",
       "      <td>5.33</td>\n",
       "      <td>668</td>\n",
       "      <td>25.3</td>\n",
       "      <td>252</td>\n",
       "      <td>3.46</td>\n",
       "    </tr>\n",
       "    <tr>\n",
       "      <th>4</th>\n",
       "      <td>418</td>\n",
       "      <td>1.011</td>\n",
       "      <td>5.87</td>\n",
       "      <td>567</td>\n",
       "      <td>29.0</td>\n",
       "      <td>457</td>\n",
       "      <td>2.36</td>\n",
       "    </tr>\n",
       "  </tbody>\n",
       "</table>\n",
       "</div>"
      ],
      "text/plain": [
       "    id  gravity    ph  osmo  cond  urea   calc\n",
       "0  414    1.017  5.24   345  11.5   152   1.16\n",
       "1  415    1.020  5.68   874  29.0   385   3.46\n",
       "2  416    1.024  5.36   698  19.5   354  13.00\n",
       "3  417    1.020  5.33   668  25.3   252   3.46\n",
       "4  418    1.011  5.87   567  29.0   457   2.36"
      ]
     },
     "execution_count": 9,
     "metadata": {},
     "output_type": "execute_result"
    }
   ],
   "source": [
    "test_data.head()"
   ]
  },
  {
   "cell_type": "markdown",
   "id": "224211d3",
   "metadata": {},
   "source": [
    "### id sutununu silelim"
   ]
  },
  {
   "cell_type": "code",
   "execution_count": 10,
   "id": "7eaa4b3b",
   "metadata": {},
   "outputs": [],
   "source": [
    "del train_data['id']"
   ]
  },
  {
   "cell_type": "code",
   "execution_count": 11,
   "id": "015901ba",
   "metadata": {},
   "outputs": [],
   "source": [
    "del test_data['id']"
   ]
  },
  {
   "cell_type": "markdown",
   "id": "63dfdeb5",
   "metadata": {},
   "source": [
    "### target sutununa bakalım"
   ]
  },
  {
   "cell_type": "code",
   "execution_count": 13,
   "id": "1a99db65",
   "metadata": {},
   "outputs": [
    {
     "data": {
      "image/png": "[encoded data removed]",
      "text/plain": [
       "<Figure size 432x288 with 1 Axes>"
      ]
     },
     "metadata": {
      "needs_background": "light"
     },
     "output_type": "display_data"
    }
   ],
   "source": [
    "ax = sbn.countplot(x = train_data['target'])\n",
    "ax.bar_label(ax.containers[0]);"
   ]
  },
  {
   "cell_type": "markdown",
   "id": "a4082b18",
   "metadata": {},
   "source": [
    "### Corelasyon"
   ]
  },
  {
   "cell_type": "code",
   "execution_count": 15,
   "id": "66c51f00",
   "metadata": {},
   "outputs": [
    {
     "data": {
      "image/png": "[encoded data removed]",
      "text/plain": [
       "<Figure size 648x504 with 2 Axes>"
      ]
     },
     "metadata": {
      "needs_background": "light"
     },
     "output_type": "display_data"
    }
   ],
   "source": [
    "plt.figure(figsize = (9, 7))\n",
    "sbn.heatmap(train_data.corr(), annot = True);"
   ]
  },
  {
   "cell_type": "code",
   "execution_count": 21,
   "id": "b0e3fb83",
   "metadata": {},
   "outputs": [
    {
     "data": {
      "text/plain": [
       "target     1.000000\n",
       "calc       0.467439\n",
       "gravity    0.282577\n",
       "urea       0.265211\n",
       "osmo       0.244770\n",
       "cond       0.172224\n",
       "ph         0.094983\n",
       "Name: target, dtype: float64"
      ]
     },
     "execution_count": 21,
     "metadata": {},
     "output_type": "execute_result"
    }
   ],
   "source": [
    "abs(train_data.corr()['target']).sort_values(ascending = False)"
   ]
  },
  {
   "cell_type": "markdown",
   "id": "5a1d5737",
   "metadata": {},
   "source": [
    "### makine modellerinin başarılarını ölçelim(tum sutunlar dahil)"
   ]
  },
  {
   "cell_type": "code",
   "execution_count": 16,
   "id": "4e0eeb29",
   "metadata": {},
   "outputs": [],
   "source": [
    "x = train_data.drop('target', axis = 1)\n",
    "y = train_data['target']"
   ]
  },
  {
   "cell_type": "code",
   "execution_count": 17,
   "id": "37c9c4a7",
   "metadata": {},
   "outputs": [
    {
     "data": {
      "text/plain": [
       "((414, 6), (414,))"
      ]
     },
     "execution_count": 17,
     "metadata": {},
     "output_type": "execute_result"
    }
   ],
   "source": [
    "x.shape, y.shape"
   ]
  },
  {
   "cell_type": "code",
   "execution_count": 30,
   "id": "05895429",
   "metadata": {},
   "outputs": [],
   "source": [
    "def classification(x, y):\n",
    "    model1 = LogisticRegression()\n",
    "    model2 = DecisionTreeClassifier()\n",
    "    model3 = RandomForestClassifier()\n",
    "    model4 = BernoulliNB()\n",
    "    model5= GaussianNB()\n",
    "    model6 = SVC()\n",
    "    model7 = GradientBoostingClassifier()\n",
    "    model8 = AdaBoostClassifier()\n",
    "    model9 = HistGradientBoostingClassifier()\n",
    "    model10 = BaggingClassifier()\n",
    "    model11 = XGBClassifier()\n",
    "    \n",
    "    models = [model1, model2, model3, model4, model5, model6, model7, model8, model9, model10, model11]\n",
    "    model_names = ['Logistic', 'Decision', 'Random', 'Bernoulli', 'Gaussian', 'Support', 'Gradient',\n",
    "                  'AdaBoost', 'Hist', 'Bagging', 'XGBoost']\n",
    "    \n",
    "    x_train, x_test, y_train, y_true = train_test_split(x, y, test_size = 0.2, random_state = 42)\n",
    "    x_train = MinMaxScaler().fit_transform(x_train)\n",
    "    x_test = MinMaxScaler().fit_transform(x_test)\n",
    "    \n",
    "    acc = []\n",
    "    f1 = []\n",
    "    skor = pd.DataFrame(columns = ['Accuracy'], index = model_names)\n",
    "    \n",
    "    for model in models:\n",
    "        model.fit(x_train, y_train)\n",
    "        y_pred = model.predict(x_test)\n",
    "        acc.append(accuracy_score(y_true, y_pred) * 100)\n",
    "        \n",
    "    skor['Accuracy'] = acc\n",
    "\n",
    "    \n",
    "    #return skor.sort_values('Accuracy', ascending = False)\n",
    "                                   \n",
    "    print(skor.sort_values('Accuracy', ascending = False))\n",
    "        \n",
    "\n",
    "    plt.figure(figsize=(10, 6))\n",
    "    \n",
    "    sbn.barplot(data = skor, y ='Accuracy', x = skor.index, color = 'lightblue')\n",
    "    for i, v in enumerate(skor['Accuracy']):\n",
    "        plt.text(i, v, str(round(v, 2)), color='black', ha='center')\n",
    "    plt.xlabel('Accuracy')\n",
    "    plt.ylabel('Models')\n",
    "    plt.title('Accuracy Scores of Classification Models')\n",
    "    plt.show()"
   ]
  },
  {
   "cell_type": "code",
   "execution_count": 31,
   "id": "75e46834",
   "metadata": {},
   "outputs": [
    {
     "name": "stdout",
     "output_type": "stream",
     "text": [
      "            Accuracy\n",
      "Gaussian   81.927711\n",
      "Logistic   77.108434\n",
      "Support    74.698795\n",
      "Hist       74.698795\n",
      "Gradient   72.289157\n",
      "Random     69.879518\n",
      "AdaBoost   69.879518\n",
      "XGBoost    67.469880\n",
      "Bagging    63.855422\n",
      "Decision   60.240964\n",
      "Bernoulli  55.421687\n"
     ]
    },
    {
     "data": {
      "image/png": "[encoded data removed]",
      "text/plain": [
       "<Figure size 720x432 with 1 Axes>"
      ]
     },
     "metadata": {
      "needs_background": "light"
     },
     "output_type": "display_data"
    }
   ],
   "source": [
    "classification(x, y)"
   ]
  },
  {
   "cell_type": "markdown",
   "id": "bb443c11",
   "metadata": {},
   "source": [
    "### makine modelleri basarısı corelasyona gore"
   ]
  },
  {
   "cell_type": "code",
   "execution_count": 32,
   "id": "1a2e5495",
   "metadata": {},
   "outputs": [],
   "source": [
    "x1 = train_data.drop(['cond', 'ph', 'target'], axis = 1)\n",
    "y1 = train_data['target']"
   ]
  },
  {
   "cell_type": "code",
   "execution_count": 33,
   "id": "01b8015e",
   "metadata": {},
   "outputs": [
    {
     "name": "stdout",
     "output_type": "stream",
     "text": [
      "            Accuracy\n",
      "Gaussian   80.722892\n",
      "Logistic   78.313253\n",
      "Support    77.108434\n",
      "AdaBoost   73.493976\n",
      "XGBoost    73.493976\n",
      "Random     68.674699\n",
      "Gradient   68.674699\n",
      "Hist       68.674699\n",
      "Bagging    66.265060\n",
      "Decision   59.036145\n",
      "Bernoulli  55.421687\n"
     ]
    },
    {
     "data": {
      "image/png": "[encoded data removed]",
      "text/plain": [
       "<Figure size 720x432 with 1 Axes>"
      ]
     },
     "metadata": {
      "needs_background": "light"
     },
     "output_type": "display_data"
    }
   ],
   "source": [
    "classification(x1, y1)"
   ]
  },
  {
   "cell_type": "markdown",
   "id": "11756aea",
   "metadata": {},
   "source": [
    "### Derin Öğrenme"
   ]
  },
  {
   "cell_type": "code",
   "execution_count": 34,
   "id": "8a60a5ed",
   "metadata": {},
   "outputs": [],
   "source": [
    "x_train, x_test, y_train, y_true = train_test_split(x, y, test_size = 0.2, random_state = 42)\n",
    "x_train = StandardScaler().fit_transform(x_train)\n",
    "x_test = StandardScaler().fit_transform(x_test)"
   ]
  },
  {
   "cell_type": "code",
   "execution_count": 35,
   "id": "289ea55c",
   "metadata": {},
   "outputs": [],
   "source": [
    "model = Sequential()\n",
    "model.add(Dense(units = 512, activation = 'relu'))\n",
    "model.add(Dense(units = 512, activation = 'relu'))\n",
    "model.add(Dense(units = 512, activation = 'relu'))\n",
    "model.add(Dense(units = 512, activation = 'relu'))\n",
    "model.add(Dense(units = 512, activation = 'relu'))\n",
    "model.add(Dense(units = 512, activation = 'relu'))\n",
    "model.add(Dense(units = 512, activation = 'relu'))\n",
    "\n",
    "model.add(Dense(1, activation = 'sigmoid'))\n",
    "\n",
    "model.compile(loss = 'binary_crossentropy', optimizer = 'adam', metrics = 'accuracy') "
   ]
  },
  {
   "cell_type": "code",
   "execution_count": 36,
   "id": "84e32f98",
   "metadata": {},
   "outputs": [],
   "source": [
    "early = EarlyStopping(monitor = 'accuracy', patience = 10, mode = 'max')"
   ]
  },
  {
   "cell_type": "code",
   "execution_count": 37,
   "id": "60b154c8",
   "metadata": {},
   "outputs": [
    {
     "name": "stdout",
     "output_type": "stream",
     "text": [
      "Epoch 1/100\n",
      "11/11 [==============================] - 2s 33ms/step - loss: 0.6718 - accuracy: 0.6344 - val_loss: 0.5277 - val_accuracy: 0.7831\n",
      "Epoch 2/100\n",
      "11/11 [==============================] - 0s 16ms/step - loss: 0.5854 - accuracy: 0.7462 - val_loss: 0.5668 - val_accuracy: 0.6988\n",
      "Epoch 3/100\n",
      "11/11 [==============================] - 0s 15ms/step - loss: 0.5715 - accuracy: 0.7432 - val_loss: 0.5263 - val_accuracy: 0.7349\n",
      "Epoch 4/100\n",
      "11/11 [==============================] - 0s 14ms/step - loss: 0.5553 - accuracy: 0.7674 - val_loss: 0.5375 - val_accuracy: 0.7590\n",
      "Epoch 5/100\n",
      "11/11 [==============================] - 0s 14ms/step - loss: 0.5735 - accuracy: 0.7492 - val_loss: 0.5402 - val_accuracy: 0.7470\n",
      "Epoch 6/100\n",
      "11/11 [==============================] - 0s 14ms/step - loss: 0.5320 - accuracy: 0.7764 - val_loss: 0.5062 - val_accuracy: 0.7470\n",
      "Epoch 7/100\n",
      "11/11 [==============================] - 0s 18ms/step - loss: 0.5098 - accuracy: 0.7855 - val_loss: 0.5322 - val_accuracy: 0.7711\n",
      "Epoch 8/100\n",
      "11/11 [==============================] - 0s 14ms/step - loss: 0.4973 - accuracy: 0.7946 - val_loss: 0.5505 - val_accuracy: 0.7590\n",
      "Epoch 9/100\n",
      "11/11 [==============================] - 0s 14ms/step - loss: 0.5068 - accuracy: 0.7734 - val_loss: 0.6231 - val_accuracy: 0.6988\n",
      "Epoch 10/100\n",
      "11/11 [==============================] - 0s 14ms/step - loss: 0.4989 - accuracy: 0.7795 - val_loss: 0.5682 - val_accuracy: 0.7590\n",
      "Epoch 11/100\n",
      "11/11 [==============================] - 0s 15ms/step - loss: 0.4551 - accuracy: 0.8187 - val_loss: 0.6147 - val_accuracy: 0.7470\n",
      "Epoch 12/100\n",
      "11/11 [==============================] - 0s 14ms/step - loss: 0.4365 - accuracy: 0.8157 - val_loss: 0.6250 - val_accuracy: 0.7590\n",
      "Epoch 13/100\n",
      "11/11 [==============================] - 0s 14ms/step - loss: 0.4137 - accuracy: 0.8338 - val_loss: 0.6998 - val_accuracy: 0.7229\n",
      "Epoch 14/100\n",
      "11/11 [==============================] - 0s 16ms/step - loss: 0.4201 - accuracy: 0.8308 - val_loss: 0.6893 - val_accuracy: 0.7470\n",
      "Epoch 15/100\n",
      "11/11 [==============================] - 0s 18ms/step - loss: 0.4130 - accuracy: 0.8489 - val_loss: 0.6205 - val_accuracy: 0.7229\n",
      "Epoch 16/100\n",
      "11/11 [==============================] - 0s 16ms/step - loss: 0.3892 - accuracy: 0.8580 - val_loss: 0.9110 - val_accuracy: 0.7108\n",
      "Epoch 17/100\n",
      "11/11 [==============================] - 0s 17ms/step - loss: 0.4027 - accuracy: 0.8429 - val_loss: 0.8055 - val_accuracy: 0.6145\n",
      "Epoch 18/100\n",
      "11/11 [==============================] - 0s 17ms/step - loss: 0.4511 - accuracy: 0.7946 - val_loss: 0.6457 - val_accuracy: 0.7349\n",
      "Epoch 19/100\n",
      "11/11 [==============================] - 0s 14ms/step - loss: 0.4000 - accuracy: 0.8399 - val_loss: 0.7580 - val_accuracy: 0.6988\n",
      "Epoch 20/100\n",
      "11/11 [==============================] - 0s 16ms/step - loss: 0.3411 - accuracy: 0.8731 - val_loss: 0.8337 - val_accuracy: 0.7229\n",
      "Epoch 21/100\n",
      "11/11 [==============================] - 0s 17ms/step - loss: 0.3042 - accuracy: 0.8671 - val_loss: 1.0758 - val_accuracy: 0.7229\n",
      "Epoch 22/100\n",
      "11/11 [==============================] - 0s 14ms/step - loss: 0.3512 - accuracy: 0.8429 - val_loss: 0.9047 - val_accuracy: 0.6988\n",
      "Epoch 23/100\n",
      "11/11 [==============================] - 0s 14ms/step - loss: 0.3528 - accuracy: 0.8580 - val_loss: 0.9267 - val_accuracy: 0.6747\n",
      "Epoch 24/100\n",
      "11/11 [==============================] - 0s 14ms/step - loss: 0.3142 - accuracy: 0.8792 - val_loss: 1.3755 - val_accuracy: 0.6506\n",
      "Epoch 25/100\n",
      "11/11 [==============================] - 0s 15ms/step - loss: 0.3481 - accuracy: 0.8550 - val_loss: 1.0955 - val_accuracy: 0.7349\n",
      "Epoch 26/100\n",
      "11/11 [==============================] - 0s 17ms/step - loss: 0.4001 - accuracy: 0.8761 - val_loss: 0.8060 - val_accuracy: 0.6988\n",
      "Epoch 27/100\n",
      "11/11 [==============================] - 0s 14ms/step - loss: 0.3369 - accuracy: 0.8912 - val_loss: 1.0373 - val_accuracy: 0.6867\n",
      "Epoch 28/100\n",
      "11/11 [==============================] - 0s 14ms/step - loss: 0.3498 - accuracy: 0.8550 - val_loss: 0.9079 - val_accuracy: 0.6627\n",
      "Epoch 29/100\n",
      "11/11 [==============================] - 0s 15ms/step - loss: 0.3568 - accuracy: 0.8701 - val_loss: 0.8804 - val_accuracy: 0.6867\n",
      "Epoch 30/100\n",
      "11/11 [==============================] - 0s 18ms/step - loss: 0.2836 - accuracy: 0.8912 - val_loss: 0.8720 - val_accuracy: 0.6867\n",
      "Epoch 31/100\n",
      "11/11 [==============================] - 0s 14ms/step - loss: 0.2524 - accuracy: 0.8973 - val_loss: 1.2075 - val_accuracy: 0.6747\n",
      "Epoch 32/100\n",
      "11/11 [==============================] - 0s 14ms/step - loss: 0.2332 - accuracy: 0.9154 - val_loss: 1.4953 - val_accuracy: 0.6627\n",
      "Epoch 33/100\n",
      "11/11 [==============================] - 0s 15ms/step - loss: 0.2718 - accuracy: 0.9094 - val_loss: 1.2173 - val_accuracy: 0.6627\n",
      "Epoch 34/100\n",
      "11/11 [==============================] - 0s 17ms/step - loss: 0.2349 - accuracy: 0.9184 - val_loss: 0.9307 - val_accuracy: 0.6988\n",
      "Epoch 35/100\n",
      "11/11 [==============================] - 0s 14ms/step - loss: 0.2261 - accuracy: 0.9154 - val_loss: 1.3106 - val_accuracy: 0.5904\n",
      "Epoch 36/100\n",
      "11/11 [==============================] - 0s 15ms/step - loss: 0.1992 - accuracy: 0.9154 - val_loss: 1.3945 - val_accuracy: 0.7108\n",
      "Epoch 37/100\n",
      "11/11 [==============================] - 0s 14ms/step - loss: 0.2563 - accuracy: 0.9094 - val_loss: 1.1213 - val_accuracy: 0.6265\n",
      "Epoch 38/100\n",
      "11/11 [==============================] - 0s 14ms/step - loss: 0.2479 - accuracy: 0.8943 - val_loss: 1.4422 - val_accuracy: 0.6988\n",
      "Epoch 39/100\n",
      "11/11 [==============================] - 0s 14ms/step - loss: 0.2447 - accuracy: 0.9094 - val_loss: 1.3200 - val_accuracy: 0.6386\n",
      "Epoch 40/100\n",
      "11/11 [==============================] - 0s 14ms/step - loss: 0.2091 - accuracy: 0.9366 - val_loss: 1.8546 - val_accuracy: 0.6867\n",
      "Epoch 41/100\n",
      "11/11 [==============================] - 0s 14ms/step - loss: 0.1716 - accuracy: 0.9275 - val_loss: 1.9027 - val_accuracy: 0.6747\n",
      "Epoch 42/100\n",
      "11/11 [==============================] - 0s 14ms/step - loss: 0.1852 - accuracy: 0.9215 - val_loss: 2.0175 - val_accuracy: 0.6747\n",
      "Epoch 43/100\n",
      "11/11 [==============================] - 0s 16ms/step - loss: 0.2397 - accuracy: 0.9033 - val_loss: 1.3008 - val_accuracy: 0.6867\n",
      "Epoch 44/100\n",
      "11/11 [==============================] - 0s 15ms/step - loss: 0.2671 - accuracy: 0.8943 - val_loss: 1.2667 - val_accuracy: 0.6988\n",
      "Epoch 45/100\n",
      "11/11 [==============================] - 0s 14ms/step - loss: 0.2535 - accuracy: 0.9124 - val_loss: 1.5028 - val_accuracy: 0.6627\n",
      "Epoch 46/100\n",
      "11/11 [==============================] - 0s 14ms/step - loss: 0.1966 - accuracy: 0.9275 - val_loss: 1.4827 - val_accuracy: 0.6988\n",
      "Epoch 47/100\n",
      "11/11 [==============================] - 0s 15ms/step - loss: 0.2379 - accuracy: 0.9124 - val_loss: 1.7777 - val_accuracy: 0.6506\n",
      "Epoch 48/100\n",
      "11/11 [==============================] - 0s 14ms/step - loss: 0.2590 - accuracy: 0.9094 - val_loss: 1.1576 - val_accuracy: 0.6265\n",
      "Epoch 49/100\n",
      "11/11 [==============================] - 0s 14ms/step - loss: 0.2335 - accuracy: 0.9094 - val_loss: 1.0579 - val_accuracy: 0.6627\n",
      "Epoch 50/100\n",
      "11/11 [==============================] - 0s 15ms/step - loss: 0.1983 - accuracy: 0.9335 - val_loss: 1.6167 - val_accuracy: 0.6506\n"
     ]
    }
   ],
   "source": [
    "history = model.fit(x_train, y_train, validation_data = (x_test, y_true), epochs = 100, batch_size = 32, verbose = 1, callbacks = [early])"
   ]
  },
  {
   "cell_type": "code",
   "execution_count": 38,
   "id": "918c3bf7",
   "metadata": {},
   "outputs": [
    {
     "name": "stdout",
     "output_type": "stream",
     "text": [
      "Model: \"sequential\"\n",
      "_________________________________________________________________\n",
      " Layer (type)                Output Shape              Param #   \n",
      "=================================================================\n",
      " dense (Dense)               (None, 512)               3584      \n",
      "                                                                 \n",
      " dense_1 (Dense)             (None, 512)               262656    \n",
      "                                                                 \n",
      " dense_2 (Dense)             (None, 512)               262656    \n",
      "                                                                 \n",
      " dense_3 (Dense)             (None, 512)               262656    \n",
      "                                                                 \n",
      " dense_4 (Dense)             (None, 512)               262656    \n",
      "                                                                 \n",
      " dense_5 (Dense)             (None, 512)               262656    \n",
      "                                                                 \n",
      " dense_6 (Dense)             (None, 512)               262656    \n",
      "                                                                 \n",
      " dense_7 (Dense)             (None, 1)                 513       \n",
      "                                                                 \n",
      "=================================================================\n",
      "Total params: 1,580,033\n",
      "Trainable params: 1,580,033\n",
      "Non-trainable params: 0\n",
      "_________________________________________________________________\n"
     ]
    }
   ],
   "source": [
    "model.summary()"
   ]
  },
  {
   "cell_type": "code",
   "execution_count": 39,
   "id": "0663ee16",
   "metadata": {},
   "outputs": [
    {
     "data": {
      "text/plain": [
       "<AxesSubplot:>"
      ]
     },
     "execution_count": 39,
     "metadata": {},
     "output_type": "execute_result"
    },
    {
     "data": {
      "image/png": "[encoded data removed]",
      "text/plain": [
       "<Figure size 432x288 with 1 Axes>"
      ]
     },
     "metadata": {
      "needs_background": "light"
     },
     "output_type": "display_data"
    }
   ],
   "source": [
    "loss = pd.DataFrame(history.history)\n",
    "loss.plot()"
   ]
  },
  {
   "cell_type": "code",
   "execution_count": 40,
   "id": "9bbcc076",
   "metadata": {},
   "outputs": [
    {
     "name": "stdout",
     "output_type": "stream",
     "text": [
      "11/11 [==============================] - 0s 2ms/step - loss: 0.1295 - accuracy: 0.9547\n"
     ]
    },
    {
     "data": {
      "text/plain": [
       "[0.12953819334506989, 0.9546827673912048]"
      ]
     },
     "execution_count": 40,
     "metadata": {},
     "output_type": "execute_result"
    }
   ],
   "source": [
    "model.evaluate(x_train, y_train)"
   ]
  },
  {
   "cell_type": "markdown",
   "id": "c080f8da",
   "metadata": {},
   "source": [
    "## tahmin"
   ]
  },
  {
   "cell_type": "code",
   "execution_count": 42,
   "id": "e069104c",
   "metadata": {},
   "outputs": [
    {
     "name": "stdout",
     "output_type": "stream",
     "text": [
      "3/3 [==============================] - 0s 2ms/step\n"
     ]
    },
    {
     "data": {
      "text/plain": [
       "65.06024096385542"
      ]
     },
     "execution_count": 42,
     "metadata": {},
     "output_type": "execute_result"
    }
   ],
   "source": [
    "tahmin = model.predict(x_test)\n",
    "tahmin = [1 if tahmin >= 0.5 else 0 for tahmin in tahmin]\n",
    "accuracy_score(tahmin, y_true) * 100"
   ]
  },
  {
   "cell_type": "markdown",
   "id": "786bd9c4",
   "metadata": {},
   "source": [
    "### tahmin dosyasını oluşturalım"
   ]
  },
  {
   "cell_type": "code",
   "execution_count": 43,
   "id": "ca1e3a49",
   "metadata": {},
   "outputs": [],
   "source": [
    "sonuc = pd.DataFrame(columns = ['id', 'target'])\n",
    "sonuc['id'] = sample_submission['id']"
   ]
  },
  {
   "cell_type": "code",
   "execution_count": 44,
   "id": "21a698e4",
   "metadata": {},
   "outputs": [],
   "source": [
    "model = GaussianNB()\n",
    "model.fit(x, y)\n",
    "tahmin = model.predict(test_data)"
   ]
  },
  {
   "cell_type": "code",
   "execution_count": 45,
   "id": "d2d9118b",
   "metadata": {},
   "outputs": [],
   "source": [
    "sonuc['target'] = tahmin"
   ]
  },
  {
   "cell_type": "code",
   "execution_count": 46,
   "id": "cf7ae683",
   "metadata": {},
   "outputs": [
    {
     "data": {
      "text/html": [
       "<div>\n",
       "<style scoped>\n",
       "    .dataframe tbody tr th:only-of-type {\n",
       "        vertical-align: middle;\n",
       "    }\n",
       "\n",
       "    .dataframe tbody tr th {\n",
       "        vertical-align: top;\n",
       "    }\n",
       "\n",
       "    .dataframe thead th {\n",
       "        text-align: right;\n",
       "    }\n",
       "</style>\n",
       "<table border=\"1\" class=\"dataframe\">\n",
       "  <thead>\n",
       "    <tr style=\"text-align: right;\">\n",
       "      <th></th>\n",
       "      <th>id</th>\n",
       "      <th>target</th>\n",
       "    </tr>\n",
       "  </thead>\n",
       "  <tbody>\n",
       "    <tr>\n",
       "      <th>0</th>\n",
       "      <td>414</td>\n",
       "      <td>0</td>\n",
       "    </tr>\n",
       "    <tr>\n",
       "      <th>1</th>\n",
       "      <td>415</td>\n",
       "      <td>1</td>\n",
       "    </tr>\n",
       "    <tr>\n",
       "      <th>2</th>\n",
       "      <td>416</td>\n",
       "      <td>1</td>\n",
       "    </tr>\n",
       "    <tr>\n",
       "      <th>3</th>\n",
       "      <td>417</td>\n",
       "      <td>1</td>\n",
       "    </tr>\n",
       "    <tr>\n",
       "      <th>4</th>\n",
       "      <td>418</td>\n",
       "      <td>0</td>\n",
       "    </tr>\n",
       "    <tr>\n",
       "      <th>...</th>\n",
       "      <td>...</td>\n",
       "      <td>...</td>\n",
       "    </tr>\n",
       "    <tr>\n",
       "      <th>271</th>\n",
       "      <td>685</td>\n",
       "      <td>1</td>\n",
       "    </tr>\n",
       "    <tr>\n",
       "      <th>272</th>\n",
       "      <td>686</td>\n",
       "      <td>0</td>\n",
       "    </tr>\n",
       "    <tr>\n",
       "      <th>273</th>\n",
       "      <td>687</td>\n",
       "      <td>1</td>\n",
       "    </tr>\n",
       "    <tr>\n",
       "      <th>274</th>\n",
       "      <td>688</td>\n",
       "      <td>0</td>\n",
       "    </tr>\n",
       "    <tr>\n",
       "      <th>275</th>\n",
       "      <td>689</td>\n",
       "      <td>0</td>\n",
       "    </tr>\n",
       "  </tbody>\n",
       "</table>\n",
       "<p>276 rows × 2 columns</p>\n",
       "</div>"
      ],
      "text/plain": [
       "      id  target\n",
       "0    414       0\n",
       "1    415       1\n",
       "2    416       1\n",
       "3    417       1\n",
       "4    418       0\n",
       "..   ...     ...\n",
       "271  685       1\n",
       "272  686       0\n",
       "273  687       1\n",
       "274  688       0\n",
       "275  689       0\n",
       "\n",
       "[276 rows x 2 columns]"
      ]
     },
     "execution_count": 46,
     "metadata": {},
     "output_type": "execute_result"
    }
   ],
   "source": [
    "sonuc"
   ]
  },
  {
   "cell_type": "code",
   "execution_count": 47,
   "id": "6a42a28b",
   "metadata": {},
   "outputs": [],
   "source": [
    "sonuc.to_csv('Gaussian.csv', index = False)"
   ]
  },
  {
   "cell_type": "code",
   "execution_count": null,
   "id": "81416dbd",
   "metadata": {},
   "outputs": [],
   "source": []
  }
 ],
 "metadata": {
  "kernelspec": {
   "display_name": "Python 3 (ipykernel)",
   "language": "python",
   "name": "python3"
  },
  "language_info": {
   "codemirror_mode": {
    "name": "ipython",
    "version": 3
   },
   "file_extension": ".py",
   "mimetype": "text/x-python",
   "name": "python",
   "nbconvert_exporter": "python",
   "pygments_lexer": "ipython3",
   "version": "3.9.12"
  }
 },
 "nbformat": 4,
 "nbformat_minor": 5
}
