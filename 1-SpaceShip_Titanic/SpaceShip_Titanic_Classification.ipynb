{
 "cells": [
  {
   "cell_type": "code",
   "execution_count": 85,
   "id": "bdaca465",
   "metadata": {},
   "outputs": [],
   "source": [
    "import numpy as np\n",
    "import pandas as pd\n",
    "import matplotlib.pyplot as plt\n",
    "import seaborn as sbn\n",
    "import warnings\n",
    "warnings.filterwarnings('ignore')\n",
    "pd.set_option('display.max_columns', 100)\n",
    "pd.set_option('display.max_rows', 100)\n",
    "from sklearn.model_selection import train_test_split\n",
    "from sklearn.linear_model import LogisticRegression\n",
    "from sklearn.tree import DecisionTreeClassifier, ExtraTreeClassifier\n",
    "from sklearn.ensemble import RandomForestClassifier, GradientBoostingClassifier, AdaBoostClassifier, ExtraTreesClassifier, BaggingClassifier, StackingClassifier\n",
    "from sklearn.naive_bayes import BernoulliNB, GaussianNB, MultinomialNB\n",
    "from sklearn.svm import SVC\n",
    "from xgboost import XGBClassifier\n",
    "from sklearn.metrics import accuracy_score\n",
    "from sklearn.preprocessing import StandardScaler, MinMaxScaler\n",
    "from tensorflow.keras.models import Sequential\n",
    "from tensorflow.keras.layers import Dense\n",
    "from tensorflow.keras.callbacks import EarlyStopping"
   ]
  },
  {
   "cell_type": "code",
   "execution_count": 2,
   "id": "55823438",
   "metadata": {},
   "outputs": [],
   "source": [
    "train = pd.read_csv('train.csv')\n",
    "test = pd.read_csv('test.csv')\n",
    "numara = pd.read_csv('test.csv')"
   ]
  },
  {
   "cell_type": "code",
   "execution_count": 3,
   "id": "41c01aaa",
   "metadata": {},
   "outputs": [
    {
     "data": {
      "text/plain": [
       "((8693, 14), (4277, 13))"
      ]
     },
     "execution_count": 3,
     "metadata": {},
     "output_type": "execute_result"
    }
   ],
   "source": [
    "train.shape, test.shape"
   ]
  },
  {
   "cell_type": "code",
   "execution_count": 4,
   "id": "47c16388",
   "metadata": {},
   "outputs": [],
   "source": [
    "data = train.append(test)"
   ]
  },
  {
   "cell_type": "code",
   "execution_count": 5,
   "id": "3d64fb18",
   "metadata": {},
   "outputs": [
    {
     "data": {
      "text/html": [
       "<div>\n",
       "<style scoped>\n",
       "    .dataframe tbody tr th:only-of-type {\n",
       "        vertical-align: middle;\n",
       "    }\n",
       "\n",
       "    .dataframe tbody tr th {\n",
       "        vertical-align: top;\n",
       "    }\n",
       "\n",
       "    .dataframe thead th {\n",
       "        text-align: right;\n",
       "    }\n",
       "</style>\n",
       "<table border=\"1\" class=\"dataframe\">\n",
       "  <thead>\n",
       "    <tr style=\"text-align: right;\">\n",
       "      <th></th>\n",
       "      <th>PassengerId</th>\n",
       "      <th>HomePlanet</th>\n",
       "      <th>CryoSleep</th>\n",
       "      <th>Cabin</th>\n",
       "      <th>Destination</th>\n",
       "      <th>Age</th>\n",
       "      <th>VIP</th>\n",
       "      <th>RoomService</th>\n",
       "      <th>FoodCourt</th>\n",
       "      <th>ShoppingMall</th>\n",
       "      <th>Spa</th>\n",
       "      <th>VRDeck</th>\n",
       "      <th>Name</th>\n",
       "      <th>Transported</th>\n",
       "    </tr>\n",
       "  </thead>\n",
       "  <tbody>\n",
       "    <tr>\n",
       "      <th>0</th>\n",
       "      <td>0001_01</td>\n",
       "      <td>Europa</td>\n",
       "      <td>False</td>\n",
       "      <td>B/0/P</td>\n",
       "      <td>TRAPPIST-1e</td>\n",
       "      <td>39.0</td>\n",
       "      <td>False</td>\n",
       "      <td>0.0</td>\n",
       "      <td>0.0</td>\n",
       "      <td>0.0</td>\n",
       "      <td>0.0</td>\n",
       "      <td>0.0</td>\n",
       "      <td>Maham Ofracculy</td>\n",
       "      <td>False</td>\n",
       "    </tr>\n",
       "    <tr>\n",
       "      <th>1</th>\n",
       "      <td>0002_01</td>\n",
       "      <td>Earth</td>\n",
       "      <td>False</td>\n",
       "      <td>F/0/S</td>\n",
       "      <td>TRAPPIST-1e</td>\n",
       "      <td>24.0</td>\n",
       "      <td>False</td>\n",
       "      <td>109.0</td>\n",
       "      <td>9.0</td>\n",
       "      <td>25.0</td>\n",
       "      <td>549.0</td>\n",
       "      <td>44.0</td>\n",
       "      <td>Juanna Vines</td>\n",
       "      <td>True</td>\n",
       "    </tr>\n",
       "    <tr>\n",
       "      <th>2</th>\n",
       "      <td>0003_01</td>\n",
       "      <td>Europa</td>\n",
       "      <td>False</td>\n",
       "      <td>A/0/S</td>\n",
       "      <td>TRAPPIST-1e</td>\n",
       "      <td>58.0</td>\n",
       "      <td>True</td>\n",
       "      <td>43.0</td>\n",
       "      <td>3576.0</td>\n",
       "      <td>0.0</td>\n",
       "      <td>6715.0</td>\n",
       "      <td>49.0</td>\n",
       "      <td>Altark Susent</td>\n",
       "      <td>False</td>\n",
       "    </tr>\n",
       "    <tr>\n",
       "      <th>3</th>\n",
       "      <td>0003_02</td>\n",
       "      <td>Europa</td>\n",
       "      <td>False</td>\n",
       "      <td>A/0/S</td>\n",
       "      <td>TRAPPIST-1e</td>\n",
       "      <td>33.0</td>\n",
       "      <td>False</td>\n",
       "      <td>0.0</td>\n",
       "      <td>1283.0</td>\n",
       "      <td>371.0</td>\n",
       "      <td>3329.0</td>\n",
       "      <td>193.0</td>\n",
       "      <td>Solam Susent</td>\n",
       "      <td>False</td>\n",
       "    </tr>\n",
       "    <tr>\n",
       "      <th>4</th>\n",
       "      <td>0004_01</td>\n",
       "      <td>Earth</td>\n",
       "      <td>False</td>\n",
       "      <td>F/1/S</td>\n",
       "      <td>TRAPPIST-1e</td>\n",
       "      <td>16.0</td>\n",
       "      <td>False</td>\n",
       "      <td>303.0</td>\n",
       "      <td>70.0</td>\n",
       "      <td>151.0</td>\n",
       "      <td>565.0</td>\n",
       "      <td>2.0</td>\n",
       "      <td>Willy Santantines</td>\n",
       "      <td>True</td>\n",
       "    </tr>\n",
       "  </tbody>\n",
       "</table>\n",
       "</div>"
      ],
      "text/plain": [
       "  PassengerId HomePlanet CryoSleep  Cabin  Destination   Age    VIP  \\\n",
       "0     0001_01     Europa     False  B/0/P  TRAPPIST-1e  39.0  False   \n",
       "1     0002_01      Earth     False  F/0/S  TRAPPIST-1e  24.0  False   \n",
       "2     0003_01     Europa     False  A/0/S  TRAPPIST-1e  58.0   True   \n",
       "3     0003_02     Europa     False  A/0/S  TRAPPIST-1e  33.0  False   \n",
       "4     0004_01      Earth     False  F/1/S  TRAPPIST-1e  16.0  False   \n",
       "\n",
       "   RoomService  FoodCourt  ShoppingMall     Spa  VRDeck               Name  \\\n",
       "0          0.0        0.0           0.0     0.0     0.0    Maham Ofracculy   \n",
       "1        109.0        9.0          25.0   549.0    44.0       Juanna Vines   \n",
       "2         43.0     3576.0           0.0  6715.0    49.0      Altark Susent   \n",
       "3          0.0     1283.0         371.0  3329.0   193.0       Solam Susent   \n",
       "4        303.0       70.0         151.0   565.0     2.0  Willy Santantines   \n",
       "\n",
       "  Transported  \n",
       "0       False  \n",
       "1        True  \n",
       "2       False  \n",
       "3       False  \n",
       "4        True  "
      ]
     },
     "execution_count": 5,
     "metadata": {},
     "output_type": "execute_result"
    }
   ],
   "source": [
    "data.head()"
   ]
  },
  {
   "cell_type": "code",
   "execution_count": 6,
   "id": "bc10d8bb",
   "metadata": {},
   "outputs": [
    {
     "data": {
      "text/html": [
       "<div>\n",
       "<style scoped>\n",
       "    .dataframe tbody tr th:only-of-type {\n",
       "        vertical-align: middle;\n",
       "    }\n",
       "\n",
       "    .dataframe tbody tr th {\n",
       "        vertical-align: top;\n",
       "    }\n",
       "\n",
       "    .dataframe thead th {\n",
       "        text-align: right;\n",
       "    }\n",
       "</style>\n",
       "<table border=\"1\" class=\"dataframe\">\n",
       "  <thead>\n",
       "    <tr style=\"text-align: right;\">\n",
       "      <th></th>\n",
       "      <th>PassengerId</th>\n",
       "      <th>HomePlanet</th>\n",
       "      <th>CryoSleep</th>\n",
       "      <th>Cabin</th>\n",
       "      <th>Destination</th>\n",
       "      <th>Age</th>\n",
       "      <th>VIP</th>\n",
       "      <th>RoomService</th>\n",
       "      <th>FoodCourt</th>\n",
       "      <th>ShoppingMall</th>\n",
       "      <th>Spa</th>\n",
       "      <th>VRDeck</th>\n",
       "      <th>Name</th>\n",
       "      <th>Transported</th>\n",
       "    </tr>\n",
       "  </thead>\n",
       "  <tbody>\n",
       "    <tr>\n",
       "      <th>3568</th>\n",
       "      <td>7766_01</td>\n",
       "      <td>Earth</td>\n",
       "      <td>False</td>\n",
       "      <td>G/1256/S</td>\n",
       "      <td>TRAPPIST-1e</td>\n",
       "      <td>51.0</td>\n",
       "      <td>False</td>\n",
       "      <td>704.0</td>\n",
       "      <td>0.0</td>\n",
       "      <td>0.0</td>\n",
       "      <td>2.0</td>\n",
       "      <td>0.0</td>\n",
       "      <td>Jodyn Pearsalason</td>\n",
       "      <td>NaN</td>\n",
       "    </tr>\n",
       "    <tr>\n",
       "      <th>555</th>\n",
       "      <td>0583_02</td>\n",
       "      <td>Mars</td>\n",
       "      <td>True</td>\n",
       "      <td>F/109/S</td>\n",
       "      <td>TRAPPIST-1e</td>\n",
       "      <td>0.0</td>\n",
       "      <td>False</td>\n",
       "      <td>0.0</td>\n",
       "      <td>0.0</td>\n",
       "      <td>0.0</td>\n",
       "      <td>0.0</td>\n",
       "      <td>0.0</td>\n",
       "      <td>Beeres Erle</td>\n",
       "      <td>True</td>\n",
       "    </tr>\n",
       "    <tr>\n",
       "      <th>8221</th>\n",
       "      <td>8786_01</td>\n",
       "      <td>Europa</td>\n",
       "      <td>True</td>\n",
       "      <td>B/284/P</td>\n",
       "      <td>55 Cancri e</td>\n",
       "      <td>59.0</td>\n",
       "      <td>False</td>\n",
       "      <td>0.0</td>\n",
       "      <td>0.0</td>\n",
       "      <td>0.0</td>\n",
       "      <td>0.0</td>\n",
       "      <td>0.0</td>\n",
       "      <td>Sadir Fringearty</td>\n",
       "      <td>True</td>\n",
       "    </tr>\n",
       "    <tr>\n",
       "      <th>1787</th>\n",
       "      <td>3809_02</td>\n",
       "      <td>Earth</td>\n",
       "      <td>False</td>\n",
       "      <td>G/624/P</td>\n",
       "      <td>TRAPPIST-1e</td>\n",
       "      <td>19.0</td>\n",
       "      <td>False</td>\n",
       "      <td>0.0</td>\n",
       "      <td>0.0</td>\n",
       "      <td>0.0</td>\n",
       "      <td>0.0</td>\n",
       "      <td>0.0</td>\n",
       "      <td>Bethew Wilderssen</td>\n",
       "      <td>NaN</td>\n",
       "    </tr>\n",
       "    <tr>\n",
       "      <th>3905</th>\n",
       "      <td>4176_07</td>\n",
       "      <td>Mars</td>\n",
       "      <td>False</td>\n",
       "      <td>F/859/P</td>\n",
       "      <td>55 Cancri e</td>\n",
       "      <td>24.0</td>\n",
       "      <td>False</td>\n",
       "      <td>612.0</td>\n",
       "      <td>326.0</td>\n",
       "      <td>46.0</td>\n",
       "      <td>87.0</td>\n",
       "      <td>0.0</td>\n",
       "      <td>Wille Fla</td>\n",
       "      <td>True</td>\n",
       "    </tr>\n",
       "  </tbody>\n",
       "</table>\n",
       "</div>"
      ],
      "text/plain": [
       "     PassengerId HomePlanet CryoSleep     Cabin  Destination   Age    VIP  \\\n",
       "3568     7766_01      Earth     False  G/1256/S  TRAPPIST-1e  51.0  False   \n",
       "555      0583_02       Mars      True   F/109/S  TRAPPIST-1e   0.0  False   \n",
       "8221     8786_01     Europa      True   B/284/P  55 Cancri e  59.0  False   \n",
       "1787     3809_02      Earth     False   G/624/P  TRAPPIST-1e  19.0  False   \n",
       "3905     4176_07       Mars     False   F/859/P  55 Cancri e  24.0  False   \n",
       "\n",
       "      RoomService  FoodCourt  ShoppingMall   Spa  VRDeck               Name  \\\n",
       "3568        704.0        0.0           0.0   2.0     0.0  Jodyn Pearsalason   \n",
       "555           0.0        0.0           0.0   0.0     0.0        Beeres Erle   \n",
       "8221          0.0        0.0           0.0   0.0     0.0   Sadir Fringearty   \n",
       "1787          0.0        0.0           0.0   0.0     0.0  Bethew Wilderssen   \n",
       "3905        612.0      326.0          46.0  87.0     0.0          Wille Fla   \n",
       "\n",
       "     Transported  \n",
       "3568         NaN  \n",
       "555         True  \n",
       "8221        True  \n",
       "1787         NaN  \n",
       "3905        True  "
      ]
     },
     "execution_count": 6,
     "metadata": {},
     "output_type": "execute_result"
    }
   ],
   "source": [
    "data.sample(5)"
   ]
  },
  {
   "cell_type": "code",
   "execution_count": 7,
   "id": "52279e92",
   "metadata": {},
   "outputs": [
    {
     "name": "stdout",
     "output_type": "stream",
     "text": [
      "<class 'pandas.core.frame.DataFrame'>\n",
      "Int64Index: 12970 entries, 0 to 4276\n",
      "Data columns (total 14 columns):\n",
      " #   Column        Non-Null Count  Dtype  \n",
      "---  ------        --------------  -----  \n",
      " 0   PassengerId   12970 non-null  object \n",
      " 1   HomePlanet    12682 non-null  object \n",
      " 2   CryoSleep     12660 non-null  object \n",
      " 3   Cabin         12671 non-null  object \n",
      " 4   Destination   12696 non-null  object \n",
      " 5   Age           12700 non-null  float64\n",
      " 6   VIP           12674 non-null  object \n",
      " 7   RoomService   12707 non-null  float64\n",
      " 8   FoodCourt     12681 non-null  float64\n",
      " 9   ShoppingMall  12664 non-null  float64\n",
      " 10  Spa           12686 non-null  float64\n",
      " 11  VRDeck        12702 non-null  float64\n",
      " 12  Name          12676 non-null  object \n",
      " 13  Transported   8693 non-null   object \n",
      "dtypes: float64(6), object(8)\n",
      "memory usage: 1.5+ MB\n"
     ]
    }
   ],
   "source": [
    "data.info()"
   ]
  },
  {
   "cell_type": "code",
   "execution_count": 8,
   "id": "84850da3",
   "metadata": {},
   "outputs": [
    {
     "data": {
      "text/plain": [
       "PassengerId        0\n",
       "HomePlanet       288\n",
       "CryoSleep        310\n",
       "Cabin            299\n",
       "Destination      274\n",
       "Age              270\n",
       "VIP              296\n",
       "RoomService      263\n",
       "FoodCourt        289\n",
       "ShoppingMall     306\n",
       "Spa              284\n",
       "VRDeck           268\n",
       "Name             294\n",
       "Transported     4277\n",
       "dtype: int64"
      ]
     },
     "execution_count": 8,
     "metadata": {},
     "output_type": "execute_result"
    }
   ],
   "source": [
    "data.isnull().sum()"
   ]
  },
  {
   "cell_type": "code",
   "execution_count": 9,
   "id": "198905d9",
   "metadata": {},
   "outputs": [
    {
     "data": {
      "text/html": [
       "<div>\n",
       "<style scoped>\n",
       "    .dataframe tbody tr th:only-of-type {\n",
       "        vertical-align: middle;\n",
       "    }\n",
       "\n",
       "    .dataframe tbody tr th {\n",
       "        vertical-align: top;\n",
       "    }\n",
       "\n",
       "    .dataframe thead th {\n",
       "        text-align: right;\n",
       "    }\n",
       "</style>\n",
       "<table border=\"1\" class=\"dataframe\">\n",
       "  <thead>\n",
       "    <tr style=\"text-align: right;\">\n",
       "      <th></th>\n",
       "      <th>Age</th>\n",
       "      <th>RoomService</th>\n",
       "      <th>FoodCourt</th>\n",
       "      <th>ShoppingMall</th>\n",
       "      <th>Spa</th>\n",
       "      <th>VRDeck</th>\n",
       "    </tr>\n",
       "  </thead>\n",
       "  <tbody>\n",
       "    <tr>\n",
       "      <th>count</th>\n",
       "      <td>12700.000000</td>\n",
       "      <td>12707.000000</td>\n",
       "      <td>12681.000000</td>\n",
       "      <td>12664.000000</td>\n",
       "      <td>12686.000000</td>\n",
       "      <td>12702.000000</td>\n",
       "    </tr>\n",
       "    <tr>\n",
       "      <th>mean</th>\n",
       "      <td>28.771969</td>\n",
       "      <td>222.897852</td>\n",
       "      <td>451.961675</td>\n",
       "      <td>174.906033</td>\n",
       "      <td>308.476904</td>\n",
       "      <td>306.789482</td>\n",
       "    </tr>\n",
       "    <tr>\n",
       "      <th>std</th>\n",
       "      <td>14.387261</td>\n",
       "      <td>647.596664</td>\n",
       "      <td>1584.370747</td>\n",
       "      <td>590.558690</td>\n",
       "      <td>1130.279641</td>\n",
       "      <td>1180.097223</td>\n",
       "    </tr>\n",
       "    <tr>\n",
       "      <th>min</th>\n",
       "      <td>0.000000</td>\n",
       "      <td>0.000000</td>\n",
       "      <td>0.000000</td>\n",
       "      <td>0.000000</td>\n",
       "      <td>0.000000</td>\n",
       "      <td>0.000000</td>\n",
       "    </tr>\n",
       "    <tr>\n",
       "      <th>25%</th>\n",
       "      <td>19.000000</td>\n",
       "      <td>0.000000</td>\n",
       "      <td>0.000000</td>\n",
       "      <td>0.000000</td>\n",
       "      <td>0.000000</td>\n",
       "      <td>0.000000</td>\n",
       "    </tr>\n",
       "    <tr>\n",
       "      <th>50%</th>\n",
       "      <td>27.000000</td>\n",
       "      <td>0.000000</td>\n",
       "      <td>0.000000</td>\n",
       "      <td>0.000000</td>\n",
       "      <td>0.000000</td>\n",
       "      <td>0.000000</td>\n",
       "    </tr>\n",
       "    <tr>\n",
       "      <th>75%</th>\n",
       "      <td>38.000000</td>\n",
       "      <td>49.000000</td>\n",
       "      <td>77.000000</td>\n",
       "      <td>29.000000</td>\n",
       "      <td>57.000000</td>\n",
       "      <td>42.000000</td>\n",
       "    </tr>\n",
       "    <tr>\n",
       "      <th>max</th>\n",
       "      <td>79.000000</td>\n",
       "      <td>14327.000000</td>\n",
       "      <td>29813.000000</td>\n",
       "      <td>23492.000000</td>\n",
       "      <td>22408.000000</td>\n",
       "      <td>24133.000000</td>\n",
       "    </tr>\n",
       "  </tbody>\n",
       "</table>\n",
       "</div>"
      ],
      "text/plain": [
       "                Age   RoomService     FoodCourt  ShoppingMall           Spa  \\\n",
       "count  12700.000000  12707.000000  12681.000000  12664.000000  12686.000000   \n",
       "mean      28.771969    222.897852    451.961675    174.906033    308.476904   \n",
       "std       14.387261    647.596664   1584.370747    590.558690   1130.279641   \n",
       "min        0.000000      0.000000      0.000000      0.000000      0.000000   \n",
       "25%       19.000000      0.000000      0.000000      0.000000      0.000000   \n",
       "50%       27.000000      0.000000      0.000000      0.000000      0.000000   \n",
       "75%       38.000000     49.000000     77.000000     29.000000     57.000000   \n",
       "max       79.000000  14327.000000  29813.000000  23492.000000  22408.000000   \n",
       "\n",
       "             VRDeck  \n",
       "count  12702.000000  \n",
       "mean     306.789482  \n",
       "std     1180.097223  \n",
       "min        0.000000  \n",
       "25%        0.000000  \n",
       "50%        0.000000  \n",
       "75%       42.000000  \n",
       "max    24133.000000  "
      ]
     },
     "execution_count": 9,
     "metadata": {},
     "output_type": "execute_result"
    }
   ],
   "source": [
    "data.describe()"
   ]
  },
  {
   "cell_type": "code",
   "execution_count": 10,
   "id": "5924c024",
   "metadata": {},
   "outputs": [
    {
     "data": {
      "text/html": [
       "<div>\n",
       "<style scoped>\n",
       "    .dataframe tbody tr th:only-of-type {\n",
       "        vertical-align: middle;\n",
       "    }\n",
       "\n",
       "    .dataframe tbody tr th {\n",
       "        vertical-align: top;\n",
       "    }\n",
       "\n",
       "    .dataframe thead th {\n",
       "        text-align: right;\n",
       "    }\n",
       "</style>\n",
       "<table border=\"1\" class=\"dataframe\">\n",
       "  <thead>\n",
       "    <tr style=\"text-align: right;\">\n",
       "      <th></th>\n",
       "      <th>PassengerId</th>\n",
       "      <th>HomePlanet</th>\n",
       "      <th>CryoSleep</th>\n",
       "      <th>Cabin</th>\n",
       "      <th>Destination</th>\n",
       "      <th>VIP</th>\n",
       "      <th>Name</th>\n",
       "      <th>Transported</th>\n",
       "    </tr>\n",
       "  </thead>\n",
       "  <tbody>\n",
       "    <tr>\n",
       "      <th>count</th>\n",
       "      <td>12970</td>\n",
       "      <td>12682</td>\n",
       "      <td>12660</td>\n",
       "      <td>12671</td>\n",
       "      <td>12696</td>\n",
       "      <td>12674</td>\n",
       "      <td>12676</td>\n",
       "      <td>8693</td>\n",
       "    </tr>\n",
       "    <tr>\n",
       "      <th>unique</th>\n",
       "      <td>12970</td>\n",
       "      <td>3</td>\n",
       "      <td>2</td>\n",
       "      <td>9825</td>\n",
       "      <td>3</td>\n",
       "      <td>2</td>\n",
       "      <td>12629</td>\n",
       "      <td>2</td>\n",
       "    </tr>\n",
       "    <tr>\n",
       "      <th>top</th>\n",
       "      <td>0001_01</td>\n",
       "      <td>Earth</td>\n",
       "      <td>False</td>\n",
       "      <td>G/734/S</td>\n",
       "      <td>TRAPPIST-1e</td>\n",
       "      <td>False</td>\n",
       "      <td>Carry Contrevins</td>\n",
       "      <td>True</td>\n",
       "    </tr>\n",
       "    <tr>\n",
       "      <th>freq</th>\n",
       "      <td>1</td>\n",
       "      <td>6865</td>\n",
       "      <td>8079</td>\n",
       "      <td>8</td>\n",
       "      <td>8871</td>\n",
       "      <td>12401</td>\n",
       "      <td>2</td>\n",
       "      <td>4378</td>\n",
       "    </tr>\n",
       "  </tbody>\n",
       "</table>\n",
       "</div>"
      ],
      "text/plain": [
       "       PassengerId HomePlanet CryoSleep    Cabin  Destination    VIP  \\\n",
       "count        12970      12682     12660    12671        12696  12674   \n",
       "unique       12970          3         2     9825            3      2   \n",
       "top        0001_01      Earth     False  G/734/S  TRAPPIST-1e  False   \n",
       "freq             1       6865      8079        8         8871  12401   \n",
       "\n",
       "                    Name Transported  \n",
       "count              12676        8693  \n",
       "unique             12629           2  \n",
       "top     Carry Contrevins        True  \n",
       "freq                   2        4378  "
      ]
     },
     "execution_count": 10,
     "metadata": {},
     "output_type": "execute_result"
    }
   ],
   "source": [
    "data.describe(include = object)"
   ]
  },
  {
   "cell_type": "markdown",
   "id": "3a2fed1e",
   "metadata": {},
   "source": [
    "###  home planet column"
   ]
  },
  {
   "cell_type": "code",
   "execution_count": 11,
   "id": "d0b61d84",
   "metadata": {},
   "outputs": [
    {
     "data": {
      "text/plain": [
       "Earth     6865\n",
       "Europa    3133\n",
       "Mars      2684\n",
       "Name: HomePlanet, dtype: int64"
      ]
     },
     "execution_count": 11,
     "metadata": {},
     "output_type": "execute_result"
    }
   ],
   "source": [
    "data.HomePlanet.value_counts()"
   ]
  },
  {
   "cell_type": "code",
   "execution_count": 12,
   "id": "39071bc4",
   "metadata": {},
   "outputs": [
    {
     "data": {
      "image/png": "[encoded data removed]",
      "text/plain": [
       "<Figure size 432x288 with 1 Axes>"
      ]
     },
     "metadata": {
      "needs_background": "light"
     },
     "output_type": "display_data"
    }
   ],
   "source": [
    "ax = sbn.countplot(x = data['HomePlanet'])\n",
    "ax.bar_label(ax.containers[0]);"
   ]
  },
  {
   "cell_type": "code",
   "execution_count": 13,
   "id": "3746403b",
   "metadata": {},
   "outputs": [
    {
     "data": {
      "text/plain": [
       "288"
      ]
     },
     "execution_count": 13,
     "metadata": {},
     "output_type": "execute_result"
    }
   ],
   "source": [
    "data.HomePlanet.isna().sum()"
   ]
  },
  {
   "cell_type": "code",
   "execution_count": 14,
   "id": "ec0885b8",
   "metadata": {},
   "outputs": [],
   "source": [
    "data.HomePlanet = data.HomePlanet.fillna(train.HomePlanet.mode()[0])"
   ]
  },
  {
   "cell_type": "code",
   "execution_count": 15,
   "id": "364cee76",
   "metadata": {},
   "outputs": [
    {
     "data": {
      "text/plain": [
       "0"
      ]
     },
     "execution_count": 15,
     "metadata": {},
     "output_type": "execute_result"
    }
   ],
   "source": [
    "data.HomePlanet.isnull().sum()"
   ]
  },
  {
   "cell_type": "code",
   "execution_count": 16,
   "id": "9f5f6936",
   "metadata": {},
   "outputs": [
    {
     "data": {
      "image/png": "[encoded data removed]",
      "text/plain": [
       "<Figure size 432x288 with 1 Axes>"
      ]
     },
     "metadata": {
      "needs_background": "light"
     },
     "output_type": "display_data"
    }
   ],
   "source": [
    "ax = sbn.countplot(x = data['HomePlanet'])\n",
    "ax.bar_label(ax.containers[0]);"
   ]
  },
  {
   "cell_type": "code",
   "execution_count": 17,
   "id": "91486ea6",
   "metadata": {},
   "outputs": [
    {
     "data": {
      "text/plain": [
       "Earth     7153\n",
       "Europa    3133\n",
       "Mars      2684\n",
       "Name: HomePlanet, dtype: int64"
      ]
     },
     "execution_count": 17,
     "metadata": {},
     "output_type": "execute_result"
    }
   ],
   "source": [
    "data.HomePlanet.value_counts(ascending = False)"
   ]
  },
  {
   "cell_type": "markdown",
   "id": "3ea8a24c",
   "metadata": {},
   "source": [
    "### CryoSleep column"
   ]
  },
  {
   "cell_type": "code",
   "execution_count": 18,
   "id": "4f042e30",
   "metadata": {},
   "outputs": [
    {
     "data": {
      "text/plain": [
       "False    8079\n",
       "True     4581\n",
       "Name: CryoSleep, dtype: int64"
      ]
     },
     "execution_count": 18,
     "metadata": {},
     "output_type": "execute_result"
    }
   ],
   "source": [
    "data.CryoSleep.value_counts()"
   ]
  },
  {
   "cell_type": "code",
   "execution_count": 19,
   "id": "e52ce23c",
   "metadata": {},
   "outputs": [],
   "source": [
    "data['CryoSleep'] = data['CryoSleep'].fillna(data['CryoSleep'].mode()[0])"
   ]
  },
  {
   "cell_type": "code",
   "execution_count": 20,
   "id": "d9ee1129",
   "metadata": {},
   "outputs": [],
   "source": [
    "d = {False : 0, True : 1}\n",
    "#data['CryoSleep'] = data['CryoSleep'].map(d)\n",
    "data['CryoSleep'] = data['CryoSleep'].replace(d)\n",
    "# data['CryoSleep'] = data['CryoSleep'].replace({False: 0, True: 1})"
   ]
  },
  {
   "cell_type": "code",
   "execution_count": 21,
   "id": "727713bb",
   "metadata": {},
   "outputs": [
    {
     "data": {
      "image/png": "[encoded data removed]",
      "text/plain": [
       "<Figure size 432x288 with 1 Axes>"
      ]
     },
     "metadata": {
      "needs_background": "light"
     },
     "output_type": "display_data"
    }
   ],
   "source": [
    "bx = sbn.countplot(x = data.CryoSleep)\n",
    "bx.bar_label(bx.containers[0]);"
   ]
  },
  {
   "cell_type": "markdown",
   "id": "750512c8",
   "metadata": {},
   "source": [
    "### Cabin column"
   ]
  },
  {
   "cell_type": "code",
   "execution_count": 22,
   "id": "b184ef70",
   "metadata": {},
   "outputs": [
    {
     "data": {
      "text/plain": [
       "9825"
      ]
     },
     "execution_count": 22,
     "metadata": {},
     "output_type": "execute_result"
    }
   ],
   "source": [
    "data.Cabin.nunique()   # çok fazla farklı cabin olduğu için bu sütunu atabiliriz."
   ]
  },
  {
   "cell_type": "code",
   "execution_count": 23,
   "id": "7f737a72",
   "metadata": {},
   "outputs": [],
   "source": [
    "data = data.drop('Cabin', axis = 1)"
   ]
  },
  {
   "cell_type": "code",
   "execution_count": 24,
   "id": "eb9aaf65",
   "metadata": {},
   "outputs": [
    {
     "data": {
      "text/plain": [
       "Index(['PassengerId', 'HomePlanet', 'CryoSleep', 'Destination', 'Age', 'VIP',\n",
       "       'RoomService', 'FoodCourt', 'ShoppingMall', 'Spa', 'VRDeck', 'Name',\n",
       "       'Transported'],\n",
       "      dtype='object')"
      ]
     },
     "execution_count": 24,
     "metadata": {},
     "output_type": "execute_result"
    }
   ],
   "source": [
    "data.columns"
   ]
  },
  {
   "cell_type": "markdown",
   "id": "31c5069a",
   "metadata": {},
   "source": [
    "### Destination column"
   ]
  },
  {
   "cell_type": "code",
   "execution_count": 25,
   "id": "d9a09567",
   "metadata": {},
   "outputs": [
    {
     "data": {
      "text/plain": [
       "TRAPPIST-1e      8871\n",
       "55 Cancri e      2641\n",
       "PSO J318.5-22    1184\n",
       "Name: Destination, dtype: int64"
      ]
     },
     "execution_count": 25,
     "metadata": {},
     "output_type": "execute_result"
    }
   ],
   "source": [
    "data.Destination.value_counts()"
   ]
  },
  {
   "cell_type": "code",
   "execution_count": 26,
   "id": "3172eefe",
   "metadata": {},
   "outputs": [
    {
     "data": {
      "text/plain": [
       "274"
      ]
     },
     "execution_count": 26,
     "metadata": {},
     "output_type": "execute_result"
    }
   ],
   "source": [
    "data.Destination.isnull().sum()"
   ]
  },
  {
   "cell_type": "code",
   "execution_count": 27,
   "id": "a32a1d9f",
   "metadata": {},
   "outputs": [],
   "source": [
    "data.Destination = data.Destination.fillna(data.Destination.mode()[0])"
   ]
  },
  {
   "cell_type": "code",
   "execution_count": 28,
   "id": "0ad353d2",
   "metadata": {},
   "outputs": [
    {
     "data": {
      "image/png": "[encoded data removed]",
      "text/plain": [
       "<Figure size 432x288 with 1 Axes>"
      ]
     },
     "metadata": {
      "needs_background": "light"
     },
     "output_type": "display_data"
    }
   ],
   "source": [
    "cx = sbn.countplot(x = data.Destination)\n",
    "cx.bar_label(cx.containers[0]);"
   ]
  },
  {
   "cell_type": "markdown",
   "id": "9d401800",
   "metadata": {},
   "source": [
    "### Age Column"
   ]
  },
  {
   "cell_type": "code",
   "execution_count": 29,
   "id": "d11fd569",
   "metadata": {},
   "outputs": [
    {
     "name": "stdout",
     "output_type": "stream",
     "text": [
      "28.771968503937007 79.0 0.0 0    18.0\n",
      "Name: Age, dtype: float64\n"
     ]
    }
   ],
   "source": [
    "print(data.Age.mean(), data.Age.max(), data.Age.min(), data.Age.mode())"
   ]
  },
  {
   "cell_type": "code",
   "execution_count": 30,
   "id": "2dd04146",
   "metadata": {},
   "outputs": [],
   "source": [
    "data.Age = data.Age.fillna(data.Age.mean())"
   ]
  },
  {
   "cell_type": "code",
   "execution_count": 31,
   "id": "264f83ee",
   "metadata": {},
   "outputs": [
    {
     "data": {
      "text/plain": [
       "0"
      ]
     },
     "execution_count": 31,
     "metadata": {},
     "output_type": "execute_result"
    }
   ],
   "source": [
    "data.Age.isnull().sum()"
   ]
  },
  {
   "cell_type": "code",
   "execution_count": 32,
   "id": "d20de7c0",
   "metadata": {},
   "outputs": [
    {
     "data": {
      "text/plain": [
       "0       39.000000\n",
       "1       24.000000\n",
       "2       58.000000\n",
       "3       33.000000\n",
       "4       16.000000\n",
       "          ...    \n",
       "4272    34.000000\n",
       "4273    42.000000\n",
       "4274    28.771969\n",
       "4275    28.771969\n",
       "4276    43.000000\n",
       "Name: Age, Length: 12970, dtype: float64"
      ]
     },
     "execution_count": 32,
     "metadata": {},
     "output_type": "execute_result"
    }
   ],
   "source": [
    "data.Age"
   ]
  },
  {
   "cell_type": "markdown",
   "id": "03ee98e0",
   "metadata": {},
   "source": [
    "### VIP Column"
   ]
  },
  {
   "cell_type": "code",
   "execution_count": 33,
   "id": "16136525",
   "metadata": {},
   "outputs": [
    {
     "data": {
      "text/plain": [
       "296"
      ]
     },
     "execution_count": 33,
     "metadata": {},
     "output_type": "execute_result"
    }
   ],
   "source": [
    "data.VIP.isnull().sum()"
   ]
  },
  {
   "cell_type": "code",
   "execution_count": 34,
   "id": "0c6ae122",
   "metadata": {},
   "outputs": [
    {
     "data": {
      "text/plain": [
       "False    12401\n",
       "True       273\n",
       "Name: VIP, dtype: int64"
      ]
     },
     "execution_count": 34,
     "metadata": {},
     "output_type": "execute_result"
    }
   ],
   "source": [
    "data.VIP.value_counts()"
   ]
  },
  {
   "cell_type": "code",
   "execution_count": 35,
   "id": "31b87f24",
   "metadata": {},
   "outputs": [],
   "source": [
    "data.VIP = data.VIP.fillna(data.VIP.mode()[0])"
   ]
  },
  {
   "cell_type": "code",
   "execution_count": 36,
   "id": "c21bddc3",
   "metadata": {},
   "outputs": [],
   "source": [
    "data.VIP = data.VIP.map(d)"
   ]
  },
  {
   "cell_type": "code",
   "execution_count": 37,
   "id": "09e61bdb",
   "metadata": {},
   "outputs": [
    {
     "data": {
      "image/png": "[encoded data removed]",
      "text/plain": [
       "<Figure size 432x288 with 1 Axes>"
      ]
     },
     "metadata": {
      "needs_background": "light"
     },
     "output_type": "display_data"
    }
   ],
   "source": [
    "dx = sbn.countplot(x = data.VIP)\n",
    "dx.bar_label(dx.containers[0]);"
   ]
  },
  {
   "cell_type": "markdown",
   "id": "b2bf5d3a",
   "metadata": {},
   "source": [
    "### Room Service Column"
   ]
  },
  {
   "cell_type": "code",
   "execution_count": 38,
   "id": "d019a8dd",
   "metadata": {},
   "outputs": [
    {
     "data": {
      "text/plain": [
       "263"
      ]
     },
     "execution_count": 38,
     "metadata": {},
     "output_type": "execute_result"
    }
   ],
   "source": [
    "data.RoomService.isna().sum()"
   ]
  },
  {
   "cell_type": "code",
   "execution_count": 39,
   "id": "c90c3c77",
   "metadata": {},
   "outputs": [
    {
     "name": "stdout",
     "output_type": "stream",
     "text": [
      "222.89785157787045 14327.0 0.0 0    0.0\n",
      "Name: RoomService, dtype: float64\n"
     ]
    }
   ],
   "source": [
    "print(data.RoomService.mean(), data.RoomService.max(), data.RoomService.min(), data.RoomService.mode())"
   ]
  },
  {
   "cell_type": "code",
   "execution_count": 40,
   "id": "a985fa9b",
   "metadata": {},
   "outputs": [
    {
     "data": {
      "text/plain": [
       "0.0       8303\n",
       "1.0        185\n",
       "2.0        113\n",
       "3.0         89\n",
       "4.0         71\n",
       "          ... \n",
       "263.0        1\n",
       "271.0        1\n",
       "922.0        1\n",
       "3905.0       1\n",
       "652.0        1\n",
       "Name: RoomService, Length: 1578, dtype: int64"
      ]
     },
     "execution_count": 40,
     "metadata": {},
     "output_type": "execute_result"
    }
   ],
   "source": [
    "data.RoomService.value_counts()"
   ]
  },
  {
   "cell_type": "code",
   "execution_count": 41,
   "id": "cf5e8ca0",
   "metadata": {},
   "outputs": [],
   "source": [
    "data.RoomService = data.RoomService.fillna(data.RoomService.mode()[0])"
   ]
  },
  {
   "cell_type": "code",
   "execution_count": 42,
   "id": "db30b2ab",
   "metadata": {},
   "outputs": [
    {
     "data": {
      "text/plain": [
       "1578"
      ]
     },
     "execution_count": 42,
     "metadata": {},
     "output_type": "execute_result"
    }
   ],
   "source": [
    "data.RoomService.nunique()"
   ]
  },
  {
   "cell_type": "code",
   "execution_count": 43,
   "id": "3dc2ab2f",
   "metadata": {},
   "outputs": [
    {
     "data": {
      "text/plain": [
       "0"
      ]
     },
     "execution_count": 43,
     "metadata": {},
     "output_type": "execute_result"
    }
   ],
   "source": [
    "data.RoomService.isna().sum()"
   ]
  },
  {
   "cell_type": "markdown",
   "id": "c67071d0",
   "metadata": {},
   "source": [
    "### FoodCourt Column"
   ]
  },
  {
   "cell_type": "code",
   "execution_count": 44,
   "id": "bb3245a5",
   "metadata": {},
   "outputs": [
    {
     "data": {
      "text/plain": [
       "0.0        8146\n",
       "1.0         175\n",
       "2.0         105\n",
       "4.0          75\n",
       "3.0          74\n",
       "           ... \n",
       "2853.0        1\n",
       "9495.0        1\n",
       "342.0         1\n",
       "11552.0       1\n",
       "601.0         1\n",
       "Name: FoodCourt, Length: 1953, dtype: int64"
      ]
     },
     "execution_count": 44,
     "metadata": {},
     "output_type": "execute_result"
    }
   ],
   "source": [
    "data.FoodCourt.value_counts()"
   ]
  },
  {
   "cell_type": "code",
   "execution_count": 45,
   "id": "6372d528",
   "metadata": {},
   "outputs": [],
   "source": [
    "data.FoodCourt = data.FoodCourt.fillna(data.FoodCourt.mode()[0])"
   ]
  },
  {
   "cell_type": "code",
   "execution_count": 46,
   "id": "80776e27",
   "metadata": {},
   "outputs": [
    {
     "data": {
      "text/plain": [
       "0"
      ]
     },
     "execution_count": 46,
     "metadata": {},
     "output_type": "execute_result"
    }
   ],
   "source": [
    "data.FoodCourt.isna().sum()"
   ]
  },
  {
   "cell_type": "markdown",
   "id": "17c466f1",
   "metadata": {},
   "source": [
    "### ShoppingMall, Spa, VRDeck columns"
   ]
  },
  {
   "cell_type": "code",
   "execution_count": 47,
   "id": "4522014f",
   "metadata": {},
   "outputs": [
    {
     "data": {
      "text/plain": [
       "0.0       8331\n",
       "1.0        225\n",
       "2.0        112\n",
       "3.0         94\n",
       "4.0         69\n",
       "          ... \n",
       "751.0        1\n",
       "1573.0       1\n",
       "1541.0       1\n",
       "1661.0       1\n",
       "3851.0       1\n",
       "Name: ShoppingMall, Length: 1367, dtype: int64"
      ]
     },
     "execution_count": 47,
     "metadata": {},
     "output_type": "execute_result"
    }
   ],
   "source": [
    "data.ShoppingMall.value_counts()"
   ]
  },
  {
   "cell_type": "code",
   "execution_count": 48,
   "id": "d094670b",
   "metadata": {},
   "outputs": [
    {
     "data": {
      "text/plain": [
       "0.0       7935\n",
       "1.0        218\n",
       "2.0        148\n",
       "3.0         82\n",
       "4.0         73\n",
       "          ... \n",
       "971.0        1\n",
       "2290.0       1\n",
       "1450.0       1\n",
       "4517.0       1\n",
       "1812.0       1\n",
       "Name: Spa, Length: 1679, dtype: int64"
      ]
     },
     "execution_count": 48,
     "metadata": {},
     "output_type": "execute_result"
    }
   ],
   "source": [
    "data.Spa.value_counts()"
   ]
  },
  {
   "cell_type": "code",
   "execution_count": 49,
   "id": "f1ab9821",
   "metadata": {},
   "outputs": [
    {
     "data": {
      "text/plain": [
       "0.0       8252\n",
       "1.0        211\n",
       "2.0        108\n",
       "3.0         89\n",
       "5.0         68\n",
       "          ... \n",
       "395.0        1\n",
       "3186.0       1\n",
       "2519.0       1\n",
       "1652.0       1\n",
       "494.0        1\n",
       "Name: VRDeck, Length: 1642, dtype: int64"
      ]
     },
     "execution_count": 49,
     "metadata": {},
     "output_type": "execute_result"
    }
   ],
   "source": [
    "data.VRDeck.value_counts()"
   ]
  },
  {
   "cell_type": "code",
   "execution_count": 50,
   "id": "6962284a",
   "metadata": {},
   "outputs": [],
   "source": [
    "data.ShoppingMall = data.ShoppingMall.fillna(data.ShoppingMall.mode()[0])\n",
    "data.Spa = data.Spa.fillna(data.Spa.mode()[0])\n",
    "data.VRDeck = data.VRDeck.fillna(data.VRDeck.mode()[0])"
   ]
  },
  {
   "cell_type": "code",
   "execution_count": 51,
   "id": "91fb75d8",
   "metadata": {},
   "outputs": [
    {
     "data": {
      "text/plain": [
       "(0, 0, 0)"
      ]
     },
     "execution_count": 51,
     "metadata": {},
     "output_type": "execute_result"
    }
   ],
   "source": [
    "data.ShoppingMall.isnull().sum(), data.Spa.isnull().sum(), data.VRDeck.isnull().sum()"
   ]
  },
  {
   "cell_type": "code",
   "execution_count": 52,
   "id": "ea76f59c",
   "metadata": {},
   "outputs": [],
   "source": [
    "### Name Column"
   ]
  },
  {
   "cell_type": "code",
   "execution_count": 53,
   "id": "76498db2",
   "metadata": {},
   "outputs": [],
   "source": [
    "data = data.drop('Name', axis = 1)"
   ]
  },
  {
   "cell_type": "code",
   "execution_count": 54,
   "id": "f64fb93d",
   "metadata": {},
   "outputs": [
    {
     "data": {
      "text/plain": [
       "PassengerId        0\n",
       "HomePlanet         0\n",
       "CryoSleep          0\n",
       "Destination        0\n",
       "Age                0\n",
       "VIP                0\n",
       "RoomService        0\n",
       "FoodCourt          0\n",
       "ShoppingMall       0\n",
       "Spa                0\n",
       "VRDeck             0\n",
       "Transported     4277\n",
       "dtype: int64"
      ]
     },
     "execution_count": 54,
     "metadata": {},
     "output_type": "execute_result"
    }
   ],
   "source": [
    "data.isnull().sum()"
   ]
  },
  {
   "cell_type": "code",
   "execution_count": 55,
   "id": "c9e5a1a9",
   "metadata": {},
   "outputs": [
    {
     "data": {
      "text/html": [
       "<div>\n",
       "<style scoped>\n",
       "    .dataframe tbody tr th:only-of-type {\n",
       "        vertical-align: middle;\n",
       "    }\n",
       "\n",
       "    .dataframe tbody tr th {\n",
       "        vertical-align: top;\n",
       "    }\n",
       "\n",
       "    .dataframe thead th {\n",
       "        text-align: right;\n",
       "    }\n",
       "</style>\n",
       "<table border=\"1\" class=\"dataframe\">\n",
       "  <thead>\n",
       "    <tr style=\"text-align: right;\">\n",
       "      <th></th>\n",
       "      <th>PassengerId</th>\n",
       "      <th>HomePlanet</th>\n",
       "      <th>CryoSleep</th>\n",
       "      <th>Destination</th>\n",
       "      <th>Age</th>\n",
       "      <th>VIP</th>\n",
       "      <th>RoomService</th>\n",
       "      <th>FoodCourt</th>\n",
       "      <th>ShoppingMall</th>\n",
       "      <th>Spa</th>\n",
       "      <th>VRDeck</th>\n",
       "      <th>Transported</th>\n",
       "    </tr>\n",
       "  </thead>\n",
       "  <tbody>\n",
       "    <tr>\n",
       "      <th>0</th>\n",
       "      <td>0001_01</td>\n",
       "      <td>Europa</td>\n",
       "      <td>0</td>\n",
       "      <td>TRAPPIST-1e</td>\n",
       "      <td>39.000000</td>\n",
       "      <td>0</td>\n",
       "      <td>0.0</td>\n",
       "      <td>0.0</td>\n",
       "      <td>0.0</td>\n",
       "      <td>0.0</td>\n",
       "      <td>0.0</td>\n",
       "      <td>0.0</td>\n",
       "    </tr>\n",
       "    <tr>\n",
       "      <th>1</th>\n",
       "      <td>0002_01</td>\n",
       "      <td>Earth</td>\n",
       "      <td>0</td>\n",
       "      <td>TRAPPIST-1e</td>\n",
       "      <td>24.000000</td>\n",
       "      <td>0</td>\n",
       "      <td>109.0</td>\n",
       "      <td>9.0</td>\n",
       "      <td>25.0</td>\n",
       "      <td>549.0</td>\n",
       "      <td>44.0</td>\n",
       "      <td>1.0</td>\n",
       "    </tr>\n",
       "    <tr>\n",
       "      <th>2</th>\n",
       "      <td>0003_01</td>\n",
       "      <td>Europa</td>\n",
       "      <td>0</td>\n",
       "      <td>TRAPPIST-1e</td>\n",
       "      <td>58.000000</td>\n",
       "      <td>1</td>\n",
       "      <td>43.0</td>\n",
       "      <td>3576.0</td>\n",
       "      <td>0.0</td>\n",
       "      <td>6715.0</td>\n",
       "      <td>49.0</td>\n",
       "      <td>0.0</td>\n",
       "    </tr>\n",
       "    <tr>\n",
       "      <th>3</th>\n",
       "      <td>0003_02</td>\n",
       "      <td>Europa</td>\n",
       "      <td>0</td>\n",
       "      <td>TRAPPIST-1e</td>\n",
       "      <td>33.000000</td>\n",
       "      <td>0</td>\n",
       "      <td>0.0</td>\n",
       "      <td>1283.0</td>\n",
       "      <td>371.0</td>\n",
       "      <td>3329.0</td>\n",
       "      <td>193.0</td>\n",
       "      <td>0.0</td>\n",
       "    </tr>\n",
       "    <tr>\n",
       "      <th>4</th>\n",
       "      <td>0004_01</td>\n",
       "      <td>Earth</td>\n",
       "      <td>0</td>\n",
       "      <td>TRAPPIST-1e</td>\n",
       "      <td>16.000000</td>\n",
       "      <td>0</td>\n",
       "      <td>303.0</td>\n",
       "      <td>70.0</td>\n",
       "      <td>151.0</td>\n",
       "      <td>565.0</td>\n",
       "      <td>2.0</td>\n",
       "      <td>1.0</td>\n",
       "    </tr>\n",
       "    <tr>\n",
       "      <th>...</th>\n",
       "      <td>...</td>\n",
       "      <td>...</td>\n",
       "      <td>...</td>\n",
       "      <td>...</td>\n",
       "      <td>...</td>\n",
       "      <td>...</td>\n",
       "      <td>...</td>\n",
       "      <td>...</td>\n",
       "      <td>...</td>\n",
       "      <td>...</td>\n",
       "      <td>...</td>\n",
       "      <td>...</td>\n",
       "    </tr>\n",
       "    <tr>\n",
       "      <th>4272</th>\n",
       "      <td>9266_02</td>\n",
       "      <td>Earth</td>\n",
       "      <td>1</td>\n",
       "      <td>TRAPPIST-1e</td>\n",
       "      <td>34.000000</td>\n",
       "      <td>0</td>\n",
       "      <td>0.0</td>\n",
       "      <td>0.0</td>\n",
       "      <td>0.0</td>\n",
       "      <td>0.0</td>\n",
       "      <td>0.0</td>\n",
       "      <td>NaN</td>\n",
       "    </tr>\n",
       "    <tr>\n",
       "      <th>4273</th>\n",
       "      <td>9269_01</td>\n",
       "      <td>Earth</td>\n",
       "      <td>0</td>\n",
       "      <td>TRAPPIST-1e</td>\n",
       "      <td>42.000000</td>\n",
       "      <td>0</td>\n",
       "      <td>0.0</td>\n",
       "      <td>847.0</td>\n",
       "      <td>17.0</td>\n",
       "      <td>10.0</td>\n",
       "      <td>144.0</td>\n",
       "      <td>NaN</td>\n",
       "    </tr>\n",
       "    <tr>\n",
       "      <th>4274</th>\n",
       "      <td>9271_01</td>\n",
       "      <td>Mars</td>\n",
       "      <td>1</td>\n",
       "      <td>55 Cancri e</td>\n",
       "      <td>28.771969</td>\n",
       "      <td>0</td>\n",
       "      <td>0.0</td>\n",
       "      <td>0.0</td>\n",
       "      <td>0.0</td>\n",
       "      <td>0.0</td>\n",
       "      <td>0.0</td>\n",
       "      <td>NaN</td>\n",
       "    </tr>\n",
       "    <tr>\n",
       "      <th>4275</th>\n",
       "      <td>9273_01</td>\n",
       "      <td>Europa</td>\n",
       "      <td>0</td>\n",
       "      <td>TRAPPIST-1e</td>\n",
       "      <td>28.771969</td>\n",
       "      <td>0</td>\n",
       "      <td>0.0</td>\n",
       "      <td>2680.0</td>\n",
       "      <td>0.0</td>\n",
       "      <td>0.0</td>\n",
       "      <td>523.0</td>\n",
       "      <td>NaN</td>\n",
       "    </tr>\n",
       "    <tr>\n",
       "      <th>4276</th>\n",
       "      <td>9277_01</td>\n",
       "      <td>Earth</td>\n",
       "      <td>1</td>\n",
       "      <td>PSO J318.5-22</td>\n",
       "      <td>43.000000</td>\n",
       "      <td>0</td>\n",
       "      <td>0.0</td>\n",
       "      <td>0.0</td>\n",
       "      <td>0.0</td>\n",
       "      <td>0.0</td>\n",
       "      <td>0.0</td>\n",
       "      <td>NaN</td>\n",
       "    </tr>\n",
       "  </tbody>\n",
       "</table>\n",
       "<p>12970 rows × 12 columns</p>\n",
       "</div>"
      ],
      "text/plain": [
       "     PassengerId HomePlanet  CryoSleep    Destination        Age  VIP  \\\n",
       "0        0001_01     Europa          0    TRAPPIST-1e  39.000000    0   \n",
       "1        0002_01      Earth          0    TRAPPIST-1e  24.000000    0   \n",
       "2        0003_01     Europa          0    TRAPPIST-1e  58.000000    1   \n",
       "3        0003_02     Europa          0    TRAPPIST-1e  33.000000    0   \n",
       "4        0004_01      Earth          0    TRAPPIST-1e  16.000000    0   \n",
       "...          ...        ...        ...            ...        ...  ...   \n",
       "4272     9266_02      Earth          1    TRAPPIST-1e  34.000000    0   \n",
       "4273     9269_01      Earth          0    TRAPPIST-1e  42.000000    0   \n",
       "4274     9271_01       Mars          1    55 Cancri e  28.771969    0   \n",
       "4275     9273_01     Europa          0    TRAPPIST-1e  28.771969    0   \n",
       "4276     9277_01      Earth          1  PSO J318.5-22  43.000000    0   \n",
       "\n",
       "      RoomService  FoodCourt  ShoppingMall     Spa  VRDeck  Transported  \n",
       "0             0.0        0.0           0.0     0.0     0.0          0.0  \n",
       "1           109.0        9.0          25.0   549.0    44.0          1.0  \n",
       "2            43.0     3576.0           0.0  6715.0    49.0          0.0  \n",
       "3             0.0     1283.0         371.0  3329.0   193.0          0.0  \n",
       "4           303.0       70.0         151.0   565.0     2.0          1.0  \n",
       "...           ...        ...           ...     ...     ...          ...  \n",
       "4272          0.0        0.0           0.0     0.0     0.0          NaN  \n",
       "4273          0.0      847.0          17.0    10.0   144.0          NaN  \n",
       "4274          0.0        0.0           0.0     0.0     0.0          NaN  \n",
       "4275          0.0     2680.0           0.0     0.0   523.0          NaN  \n",
       "4276          0.0        0.0           0.0     0.0     0.0          NaN  \n",
       "\n",
       "[12970 rows x 12 columns]"
      ]
     },
     "execution_count": 55,
     "metadata": {},
     "output_type": "execute_result"
    }
   ],
   "source": [
    "data.Transported = data.Transported.map(d)\n",
    "data"
   ]
  },
  {
   "cell_type": "code",
   "execution_count": 56,
   "id": "4ef72b8c",
   "metadata": {},
   "outputs": [],
   "source": [
    "data.drop('PassengerId', axis = 1, inplace = True)"
   ]
  },
  {
   "cell_type": "code",
   "execution_count": 57,
   "id": "2994007e",
   "metadata": {},
   "outputs": [],
   "source": [
    "df = pd.get_dummies(data, drop_first = True)"
   ]
  },
  {
   "cell_type": "code",
   "execution_count": 58,
   "id": "976af721",
   "metadata": {},
   "outputs": [
    {
     "data": {
      "text/html": [
       "<div>\n",
       "<style scoped>\n",
       "    .dataframe tbody tr th:only-of-type {\n",
       "        vertical-align: middle;\n",
       "    }\n",
       "\n",
       "    .dataframe tbody tr th {\n",
       "        vertical-align: top;\n",
       "    }\n",
       "\n",
       "    .dataframe thead th {\n",
       "        text-align: right;\n",
       "    }\n",
       "</style>\n",
       "<table border=\"1\" class=\"dataframe\">\n",
       "  <thead>\n",
       "    <tr style=\"text-align: right;\">\n",
       "      <th></th>\n",
       "      <th>CryoSleep</th>\n",
       "      <th>Age</th>\n",
       "      <th>VIP</th>\n",
       "      <th>RoomService</th>\n",
       "      <th>FoodCourt</th>\n",
       "      <th>ShoppingMall</th>\n",
       "      <th>Spa</th>\n",
       "      <th>VRDeck</th>\n",
       "      <th>Transported</th>\n",
       "      <th>HomePlanet_Europa</th>\n",
       "      <th>HomePlanet_Mars</th>\n",
       "      <th>Destination_PSO J318.5-22</th>\n",
       "      <th>Destination_TRAPPIST-1e</th>\n",
       "    </tr>\n",
       "  </thead>\n",
       "  <tbody>\n",
       "    <tr>\n",
       "      <th>0</th>\n",
       "      <td>0</td>\n",
       "      <td>39.000000</td>\n",
       "      <td>0</td>\n",
       "      <td>0.0</td>\n",
       "      <td>0.0</td>\n",
       "      <td>0.0</td>\n",
       "      <td>0.0</td>\n",
       "      <td>0.0</td>\n",
       "      <td>0.0</td>\n",
       "      <td>1</td>\n",
       "      <td>0</td>\n",
       "      <td>0</td>\n",
       "      <td>1</td>\n",
       "    </tr>\n",
       "    <tr>\n",
       "      <th>1</th>\n",
       "      <td>0</td>\n",
       "      <td>24.000000</td>\n",
       "      <td>0</td>\n",
       "      <td>109.0</td>\n",
       "      <td>9.0</td>\n",
       "      <td>25.0</td>\n",
       "      <td>549.0</td>\n",
       "      <td>44.0</td>\n",
       "      <td>1.0</td>\n",
       "      <td>0</td>\n",
       "      <td>0</td>\n",
       "      <td>0</td>\n",
       "      <td>1</td>\n",
       "    </tr>\n",
       "    <tr>\n",
       "      <th>2</th>\n",
       "      <td>0</td>\n",
       "      <td>58.000000</td>\n",
       "      <td>1</td>\n",
       "      <td>43.0</td>\n",
       "      <td>3576.0</td>\n",
       "      <td>0.0</td>\n",
       "      <td>6715.0</td>\n",
       "      <td>49.0</td>\n",
       "      <td>0.0</td>\n",
       "      <td>1</td>\n",
       "      <td>0</td>\n",
       "      <td>0</td>\n",
       "      <td>1</td>\n",
       "    </tr>\n",
       "    <tr>\n",
       "      <th>3</th>\n",
       "      <td>0</td>\n",
       "      <td>33.000000</td>\n",
       "      <td>0</td>\n",
       "      <td>0.0</td>\n",
       "      <td>1283.0</td>\n",
       "      <td>371.0</td>\n",
       "      <td>3329.0</td>\n",
       "      <td>193.0</td>\n",
       "      <td>0.0</td>\n",
       "      <td>1</td>\n",
       "      <td>0</td>\n",
       "      <td>0</td>\n",
       "      <td>1</td>\n",
       "    </tr>\n",
       "    <tr>\n",
       "      <th>4</th>\n",
       "      <td>0</td>\n",
       "      <td>16.000000</td>\n",
       "      <td>0</td>\n",
       "      <td>303.0</td>\n",
       "      <td>70.0</td>\n",
       "      <td>151.0</td>\n",
       "      <td>565.0</td>\n",
       "      <td>2.0</td>\n",
       "      <td>1.0</td>\n",
       "      <td>0</td>\n",
       "      <td>0</td>\n",
       "      <td>0</td>\n",
       "      <td>1</td>\n",
       "    </tr>\n",
       "    <tr>\n",
       "      <th>...</th>\n",
       "      <td>...</td>\n",
       "      <td>...</td>\n",
       "      <td>...</td>\n",
       "      <td>...</td>\n",
       "      <td>...</td>\n",
       "      <td>...</td>\n",
       "      <td>...</td>\n",
       "      <td>...</td>\n",
       "      <td>...</td>\n",
       "      <td>...</td>\n",
       "      <td>...</td>\n",
       "      <td>...</td>\n",
       "      <td>...</td>\n",
       "    </tr>\n",
       "    <tr>\n",
       "      <th>4272</th>\n",
       "      <td>1</td>\n",
       "      <td>34.000000</td>\n",
       "      <td>0</td>\n",
       "      <td>0.0</td>\n",
       "      <td>0.0</td>\n",
       "      <td>0.0</td>\n",
       "      <td>0.0</td>\n",
       "      <td>0.0</td>\n",
       "      <td>NaN</td>\n",
       "      <td>0</td>\n",
       "      <td>0</td>\n",
       "      <td>0</td>\n",
       "      <td>1</td>\n",
       "    </tr>\n",
       "    <tr>\n",
       "      <th>4273</th>\n",
       "      <td>0</td>\n",
       "      <td>42.000000</td>\n",
       "      <td>0</td>\n",
       "      <td>0.0</td>\n",
       "      <td>847.0</td>\n",
       "      <td>17.0</td>\n",
       "      <td>10.0</td>\n",
       "      <td>144.0</td>\n",
       "      <td>NaN</td>\n",
       "      <td>0</td>\n",
       "      <td>0</td>\n",
       "      <td>0</td>\n",
       "      <td>1</td>\n",
       "    </tr>\n",
       "    <tr>\n",
       "      <th>4274</th>\n",
       "      <td>1</td>\n",
       "      <td>28.771969</td>\n",
       "      <td>0</td>\n",
       "      <td>0.0</td>\n",
       "      <td>0.0</td>\n",
       "      <td>0.0</td>\n",
       "      <td>0.0</td>\n",
       "      <td>0.0</td>\n",
       "      <td>NaN</td>\n",
       "      <td>0</td>\n",
       "      <td>1</td>\n",
       "      <td>0</td>\n",
       "      <td>0</td>\n",
       "    </tr>\n",
       "    <tr>\n",
       "      <th>4275</th>\n",
       "      <td>0</td>\n",
       "      <td>28.771969</td>\n",
       "      <td>0</td>\n",
       "      <td>0.0</td>\n",
       "      <td>2680.0</td>\n",
       "      <td>0.0</td>\n",
       "      <td>0.0</td>\n",
       "      <td>523.0</td>\n",
       "      <td>NaN</td>\n",
       "      <td>1</td>\n",
       "      <td>0</td>\n",
       "      <td>0</td>\n",
       "      <td>1</td>\n",
       "    </tr>\n",
       "    <tr>\n",
       "      <th>4276</th>\n",
       "      <td>1</td>\n",
       "      <td>43.000000</td>\n",
       "      <td>0</td>\n",
       "      <td>0.0</td>\n",
       "      <td>0.0</td>\n",
       "      <td>0.0</td>\n",
       "      <td>0.0</td>\n",
       "      <td>0.0</td>\n",
       "      <td>NaN</td>\n",
       "      <td>0</td>\n",
       "      <td>0</td>\n",
       "      <td>1</td>\n",
       "      <td>0</td>\n",
       "    </tr>\n",
       "  </tbody>\n",
       "</table>\n",
       "<p>12970 rows × 13 columns</p>\n",
       "</div>"
      ],
      "text/plain": [
       "      CryoSleep        Age  VIP  RoomService  FoodCourt  ShoppingMall     Spa  \\\n",
       "0             0  39.000000    0          0.0        0.0           0.0     0.0   \n",
       "1             0  24.000000    0        109.0        9.0          25.0   549.0   \n",
       "2             0  58.000000    1         43.0     3576.0           0.0  6715.0   \n",
       "3             0  33.000000    0          0.0     1283.0         371.0  3329.0   \n",
       "4             0  16.000000    0        303.0       70.0         151.0   565.0   \n",
       "...         ...        ...  ...          ...        ...           ...     ...   \n",
       "4272          1  34.000000    0          0.0        0.0           0.0     0.0   \n",
       "4273          0  42.000000    0          0.0      847.0          17.0    10.0   \n",
       "4274          1  28.771969    0          0.0        0.0           0.0     0.0   \n",
       "4275          0  28.771969    0          0.0     2680.0           0.0     0.0   \n",
       "4276          1  43.000000    0          0.0        0.0           0.0     0.0   \n",
       "\n",
       "      VRDeck  Transported  HomePlanet_Europa  HomePlanet_Mars  \\\n",
       "0        0.0          0.0                  1                0   \n",
       "1       44.0          1.0                  0                0   \n",
       "2       49.0          0.0                  1                0   \n",
       "3      193.0          0.0                  1                0   \n",
       "4        2.0          1.0                  0                0   \n",
       "...      ...          ...                ...              ...   \n",
       "4272     0.0          NaN                  0                0   \n",
       "4273   144.0          NaN                  0                0   \n",
       "4274     0.0          NaN                  0                1   \n",
       "4275   523.0          NaN                  1                0   \n",
       "4276     0.0          NaN                  0                0   \n",
       "\n",
       "      Destination_PSO J318.5-22  Destination_TRAPPIST-1e  \n",
       "0                             0                        1  \n",
       "1                             0                        1  \n",
       "2                             0                        1  \n",
       "3                             0                        1  \n",
       "4                             0                        1  \n",
       "...                         ...                      ...  \n",
       "4272                          0                        1  \n",
       "4273                          0                        1  \n",
       "4274                          0                        0  \n",
       "4275                          0                        1  \n",
       "4276                          1                        0  \n",
       "\n",
       "[12970 rows x 13 columns]"
      ]
     },
     "execution_count": 58,
     "metadata": {},
     "output_type": "execute_result"
    }
   ],
   "source": [
    "df"
   ]
  },
  {
   "cell_type": "code",
   "execution_count": 59,
   "id": "d3ed1bd7",
   "metadata": {},
   "outputs": [],
   "source": [
    "df.to_csv('spaceship_son_hali.csv', index = False)"
   ]
  },
  {
   "cell_type": "markdown",
   "id": "379541bc",
   "metadata": {},
   "source": [
    "## Test and Train"
   ]
  },
  {
   "cell_type": "code",
   "execution_count": 60,
   "id": "8528da7b",
   "metadata": {},
   "outputs": [],
   "source": [
    "train = df[:8693]\n",
    "test = df[8693:]"
   ]
  },
  {
   "cell_type": "code",
   "execution_count": 61,
   "id": "42c3c1fa",
   "metadata": {},
   "outputs": [
    {
     "data": {
      "text/plain": [
       "CryoSleep                    0\n",
       "Age                          0\n",
       "VIP                          0\n",
       "RoomService                  0\n",
       "FoodCourt                    0\n",
       "ShoppingMall                 0\n",
       "Spa                          0\n",
       "VRDeck                       0\n",
       "Transported                  0\n",
       "HomePlanet_Europa            0\n",
       "HomePlanet_Mars              0\n",
       "Destination_PSO J318.5-22    0\n",
       "Destination_TRAPPIST-1e      0\n",
       "dtype: int64"
      ]
     },
     "execution_count": 61,
     "metadata": {},
     "output_type": "execute_result"
    }
   ],
   "source": [
    "train.isna().sum()"
   ]
  },
  {
   "cell_type": "code",
   "execution_count": 62,
   "id": "d2c27b66",
   "metadata": {},
   "outputs": [],
   "source": [
    "x = train.drop('Transported', axis = 1)\n",
    "y = train['Transported']"
   ]
  },
  {
   "cell_type": "code",
   "execution_count": null,
   "id": "7ad65ade",
   "metadata": {},
   "outputs": [],
   "source": []
  },
  {
   "cell_type": "markdown",
   "id": "117948d2",
   "metadata": {},
   "source": [
    "## Models"
   ]
  },
  {
   "cell_type": "code",
   "execution_count": 63,
   "id": "3958f6a2",
   "metadata": {},
   "outputs": [],
   "source": [
    "def classification(x, y):\n",
    "    model1 = LogisticRegression()\n",
    "    model2 = DecisionTreeClassifier()\n",
    "    model3 = RandomForestClassifier()\n",
    "    model4 = GradientBoostingClassifier()\n",
    "    model5 = BernoulliNB()\n",
    "    model6 = GaussianNB()\n",
    "    model7 = MultinomialNB()\n",
    "    model8 = SVC()\n",
    "    model9 = XGBClassifier()\n",
    "    model10 = AdaBoostClassifier()\n",
    "    model11  = ExtraTreesClassifier()\n",
    "    model12 = ExtraTreeClassifier()\n",
    "    model13 = BaggingClassifier()\n",
    "    #model14 = StackingClassifier(estimators, final_estimator=LogisticRegression())\n",
    "    \n",
    "    models = [model1, model2, model3, model4, model5, model6, model7, model8, model9, model10, model11, model12, model13]\n",
    "    model_names = ['LogisticRegression', 'DecisionTree', 'RandomForest', 'GradientBoost', 'Bernoulli', 'Gaussian',\n",
    "                  'Multinomial', 'SupportVector', 'XGBoost', 'AdaBoost', 'ExtraTrees', 'ExtraTree', 'Bagging']\n",
    "    x_train, x_test, y_train, y_true = train_test_split(x, y, train_size = 0.8, random_state = 42)\n",
    "    #x_train = StandardScaler().fit_transform(x_train)\n",
    "    #x_test = StandardScaler().fit_transform(x_test)\n",
    "    #x_train = MinMaxScaler().fit_transform(x_train)\n",
    "    #x_test = MinMaxScaler().fit_transform(x_test)\n",
    "    \n",
    "    acc = []\n",
    "    skor_df = pd.DataFrame(columns = ['Accuracy'], index = model_names)\n",
    "    \n",
    "    for model in models:\n",
    "        model.fit(x_train, y_train)\n",
    "        y_pred = model.predict(x_test)\n",
    "        acc.append(accuracy_score(y_true, y_pred) * 100)\n",
    "    \n",
    "    skor_df['Accuracy'] = acc\n",
    "    \n",
    "    return skor_df.sort_values('Accuracy', ascending = False)\n",
    "    "
   ]
  },
  {
   "cell_type": "code",
   "execution_count": 64,
   "id": "6d9284b0",
   "metadata": {},
   "outputs": [
    {
     "data": {
      "text/html": [
       "<div>\n",
       "<style scoped>\n",
       "    .dataframe tbody tr th:only-of-type {\n",
       "        vertical-align: middle;\n",
       "    }\n",
       "\n",
       "    .dataframe tbody tr th {\n",
       "        vertical-align: top;\n",
       "    }\n",
       "\n",
       "    .dataframe thead th {\n",
       "        text-align: right;\n",
       "    }\n",
       "</style>\n",
       "<table border=\"1\" class=\"dataframe\">\n",
       "  <thead>\n",
       "    <tr style=\"text-align: right;\">\n",
       "      <th></th>\n",
       "      <th>Accuracy</th>\n",
       "    </tr>\n",
       "  </thead>\n",
       "  <tbody>\n",
       "    <tr>\n",
       "      <th>GradientBoost</th>\n",
       "      <td>78.378378</td>\n",
       "    </tr>\n",
       "    <tr>\n",
       "      <th>XGBoost</th>\n",
       "      <td>78.263370</td>\n",
       "    </tr>\n",
       "    <tr>\n",
       "      <th>RandomForest</th>\n",
       "      <td>77.918344</td>\n",
       "    </tr>\n",
       "    <tr>\n",
       "      <th>LogisticRegression</th>\n",
       "      <td>77.573318</td>\n",
       "    </tr>\n",
       "    <tr>\n",
       "      <th>AdaBoost</th>\n",
       "      <td>77.515814</td>\n",
       "    </tr>\n",
       "    <tr>\n",
       "      <th>SupportVector</th>\n",
       "      <td>77.400805</td>\n",
       "    </tr>\n",
       "    <tr>\n",
       "      <th>ExtraTrees</th>\n",
       "      <td>77.400805</td>\n",
       "    </tr>\n",
       "    <tr>\n",
       "      <th>Bagging</th>\n",
       "      <td>76.825762</td>\n",
       "    </tr>\n",
       "    <tr>\n",
       "      <th>Multinomial</th>\n",
       "      <td>76.250719</td>\n",
       "    </tr>\n",
       "    <tr>\n",
       "      <th>Bernoulli</th>\n",
       "      <td>73.720529</td>\n",
       "    </tr>\n",
       "    <tr>\n",
       "      <th>DecisionTree</th>\n",
       "      <td>73.375503</td>\n",
       "    </tr>\n",
       "    <tr>\n",
       "      <th>ExtraTree</th>\n",
       "      <td>73.087982</td>\n",
       "    </tr>\n",
       "    <tr>\n",
       "      <th>Gaussian</th>\n",
       "      <td>70.155262</td>\n",
       "    </tr>\n",
       "  </tbody>\n",
       "</table>\n",
       "</div>"
      ],
      "text/plain": [
       "                     Accuracy\n",
       "GradientBoost       78.378378\n",
       "XGBoost             78.263370\n",
       "RandomForest        77.918344\n",
       "LogisticRegression  77.573318\n",
       "AdaBoost            77.515814\n",
       "SupportVector       77.400805\n",
       "ExtraTrees          77.400805\n",
       "Bagging             76.825762\n",
       "Multinomial         76.250719\n",
       "Bernoulli           73.720529\n",
       "DecisionTree        73.375503\n",
       "ExtraTree           73.087982\n",
       "Gaussian            70.155262"
      ]
     },
     "execution_count": 64,
     "metadata": {},
     "output_type": "execute_result"
    }
   ],
   "source": [
    "classification(x, y)"
   ]
  },
  {
   "cell_type": "code",
   "execution_count": 65,
   "id": "5381e068",
   "metadata": {},
   "outputs": [],
   "source": [
    "def classification2(x, y):\n",
    "    model1 = LogisticRegression()\n",
    "    model2 = DecisionTreeClassifier()\n",
    "    model3 = RandomForestClassifier()\n",
    "    model4 = GradientBoostingClassifier()\n",
    "    model5 = BernoulliNB()\n",
    "    model6 = GaussianNB()\n",
    "    model7 = AdaBoostClassifier()\n",
    "    model8 = SVC(kernel = 'rbf')\n",
    "    model9 = XGBClassifier()\n",
    "    model10 = ExtraTreesClassifier()\n",
    "    \n",
    "    models = [model1, model2, model3, model4, model5, model6, model7, model8, model9, model10]\n",
    "    model_names = ['LogisticRegression', 'DecisionTree', 'RandomForest', 'GradientBoost', 'Bernoulli', 'Gaussian',\n",
    "                   'AdaBoost', 'SupportVector', 'XGBoost', 'ExtraTree']\n",
    "    x_train, x_test, y_train, y_true = train_test_split(x, y, train_size = 0.8, random_state = 42)\n",
    "    #x_train = StandardScaler().fit_transform(x_train)\n",
    "    #x_test = StandardScaler().fit_transform(x_test)\n",
    "    x_train = MinMaxScaler().fit_transform(x_train)\n",
    "    x_test = MinMaxScaler().fit_transform(x_test)\n",
    "    \n",
    "    acc = []\n",
    "    skor_df = pd.DataFrame(columns = ['Accuracy'], index = model_names)\n",
    "    \n",
    "    for model in models:\n",
    "        model.fit(x_train, y_train)\n",
    "        y_pred = model.predict(x_test)\n",
    "        acc.append(accuracy_score(y_true, y_pred) * 100)\n",
    "    \n",
    "    skor_df['Accuracy'] = acc\n",
    "    \n",
    "    return skor_df.sort_values('Accuracy', ascending = False)\n",
    "    "
   ]
  },
  {
   "cell_type": "code",
   "execution_count": 66,
   "id": "c1ead784",
   "metadata": {},
   "outputs": [
    {
     "data": {
      "text/html": [
       "<div>\n",
       "<style scoped>\n",
       "    .dataframe tbody tr th:only-of-type {\n",
       "        vertical-align: middle;\n",
       "    }\n",
       "\n",
       "    .dataframe tbody tr th {\n",
       "        vertical-align: top;\n",
       "    }\n",
       "\n",
       "    .dataframe thead th {\n",
       "        text-align: right;\n",
       "    }\n",
       "</style>\n",
       "<table border=\"1\" class=\"dataframe\">\n",
       "  <thead>\n",
       "    <tr style=\"text-align: right;\">\n",
       "      <th></th>\n",
       "      <th>Accuracy</th>\n",
       "    </tr>\n",
       "  </thead>\n",
       "  <tbody>\n",
       "    <tr>\n",
       "      <th>XGBoost</th>\n",
       "      <td>78.033353</td>\n",
       "    </tr>\n",
       "    <tr>\n",
       "      <th>GradientBoost</th>\n",
       "      <td>77.630822</td>\n",
       "    </tr>\n",
       "    <tr>\n",
       "      <th>RandomForest</th>\n",
       "      <td>77.458309</td>\n",
       "    </tr>\n",
       "    <tr>\n",
       "      <th>AdaBoost</th>\n",
       "      <td>77.400805</td>\n",
       "    </tr>\n",
       "    <tr>\n",
       "      <th>ExtraTree</th>\n",
       "      <td>77.113283</td>\n",
       "    </tr>\n",
       "    <tr>\n",
       "      <th>SupportVector</th>\n",
       "      <td>76.423232</td>\n",
       "    </tr>\n",
       "    <tr>\n",
       "      <th>LogisticRegression</th>\n",
       "      <td>76.365727</td>\n",
       "    </tr>\n",
       "    <tr>\n",
       "      <th>Bernoulli</th>\n",
       "      <td>73.720529</td>\n",
       "    </tr>\n",
       "    <tr>\n",
       "      <th>DecisionTree</th>\n",
       "      <td>73.202990</td>\n",
       "    </tr>\n",
       "    <tr>\n",
       "      <th>Gaussian</th>\n",
       "      <td>73.030477</td>\n",
       "    </tr>\n",
       "  </tbody>\n",
       "</table>\n",
       "</div>"
      ],
      "text/plain": [
       "                     Accuracy\n",
       "XGBoost             78.033353\n",
       "GradientBoost       77.630822\n",
       "RandomForest        77.458309\n",
       "AdaBoost            77.400805\n",
       "ExtraTree           77.113283\n",
       "SupportVector       76.423232\n",
       "LogisticRegression  76.365727\n",
       "Bernoulli           73.720529\n",
       "DecisionTree        73.202990\n",
       "Gaussian            73.030477"
      ]
     },
     "execution_count": 66,
     "metadata": {},
     "output_type": "execute_result"
    }
   ],
   "source": [
    "classification2(x, y)"
   ]
  },
  {
   "cell_type": "code",
   "execution_count": 74,
   "id": "b292d425",
   "metadata": {},
   "outputs": [],
   "source": [
    "def ml_save(model, csv_name):\n",
    "    model.fit(x, y)\n",
    "    tahmin = model.predict(test.drop('Transported', axis = 1))\n",
    "    sonuc = pd.DataFrame()\n",
    "    sonuc['PassengerId'] = numara['PassengerId']\n",
    "    sonuc['Transported'] = tahmin\n",
    "    sonuc['Transported'] = sonuc['Transported'].astype('int64').map({0 : False, 1 : True})\n",
    "    sonuc.to_csv(csv_name, index = False)"
   ]
  },
  {
   "cell_type": "code",
   "execution_count": 75,
   "id": "2eb365e5",
   "metadata": {},
   "outputs": [],
   "source": [
    "ml_save(XGBClassifier(), \"XGB_tahmin.csv\")"
   ]
  },
  {
   "cell_type": "code",
   "execution_count": 76,
   "id": "8735ddc0",
   "metadata": {},
   "outputs": [],
   "source": [
    "ml_save(GradientBoostingClassifier(), \"GB_tahmin.csv\")"
   ]
  },
  {
   "cell_type": "code",
   "execution_count": 77,
   "id": "69242079",
   "metadata": {},
   "outputs": [],
   "source": [
    "ml_save(RandomForestClassifier(), \"RF_tahmin.csv\")"
   ]
  },
  {
   "cell_type": "code",
   "execution_count": 78,
   "id": "8fc1a9e1",
   "metadata": {},
   "outputs": [],
   "source": [
    "ml_save(AdaBoostClassifier(), \"AB_tahmin.csv\")"
   ]
  },
  {
   "cell_type": "markdown",
   "id": "0b1ee1b7",
   "metadata": {},
   "source": [
    "## Deep Learning model"
   ]
  },
  {
   "cell_type": "code",
   "execution_count": 82,
   "id": "5347d328",
   "metadata": {},
   "outputs": [],
   "source": [
    " x_train, x_test, y_train, y_true = train_test_split(x, y, train_size = 0.8, random_state = 42)"
   ]
  },
  {
   "cell_type": "code",
   "execution_count": 99,
   "id": "82d991ff",
   "metadata": {},
   "outputs": [],
   "source": [
    "model = Sequential()\n",
    "\n",
    "model.add(Dense(units = 100, activation = 'relu'))\n",
    "model.add(Dense(units = 200, activation = 'relu'))\n",
    "model.add(Dense(units = 200, activation = 'relu'))\n",
    "model.add(Dense(units = 100, activation = 'relu'))\n",
    "model.add(Dense(units = 100, activation = 'relu'))\n",
    "model.add(Dense(units = 100, activation = 'relu'))\n",
    "model.add(Dense(units = 50, activation = 'relu'))\n",
    "model.add(Dense(units = 10, activation = 'relu'))\n",
    "model.add(Dense(1, activation = 'sigmoid'))\n",
    "\n",
    "model.compile(loss = 'binary_crossentropy', metrics = ['accuracy'], optimizer = 'adam')"
   ]
  },
  {
   "cell_type": "code",
   "execution_count": 100,
   "id": "23e694dc",
   "metadata": {},
   "outputs": [],
   "source": [
    "early = EarlyStopping(monitor = 'accuracy', patience = 10, mode = 'max')"
   ]
  },
  {
   "cell_type": "code",
   "execution_count": 102,
   "id": "ffa23589",
   "metadata": {},
   "outputs": [
    {
     "name": "stdout",
     "output_type": "stream",
     "text": [
      "Epoch 1/100\n",
      "218/218 [==============================] - 2s 2ms/step - loss: 1.1663 - accuracy: 0.7540 - val_loss: 0.6446 - val_accuracy: 0.7573\n",
      "Epoch 2/100\n",
      "218/218 [==============================] - 0s 2ms/step - loss: 0.5150 - accuracy: 0.7869 - val_loss: 0.4980 - val_accuracy: 0.7717\n",
      "Epoch 3/100\n",
      "218/218 [==============================] - 0s 2ms/step - loss: 0.4716 - accuracy: 0.7886 - val_loss: 0.4744 - val_accuracy: 0.7769\n",
      "Epoch 4/100\n",
      "218/218 [==============================] - 0s 2ms/step - loss: 0.4660 - accuracy: 0.7931 - val_loss: 0.4815 - val_accuracy: 0.7717\n",
      "Epoch 5/100\n",
      "218/218 [==============================] - 0s 2ms/step - loss: 0.4657 - accuracy: 0.7863 - val_loss: 0.4781 - val_accuracy: 0.7740\n",
      "Epoch 6/100\n",
      "218/218 [==============================] - 0s 2ms/step - loss: 0.4562 - accuracy: 0.7951 - val_loss: 0.4598 - val_accuracy: 0.7803\n",
      "Epoch 7/100\n",
      "218/218 [==============================] - 0s 2ms/step - loss: 0.4435 - accuracy: 0.7938 - val_loss: 0.4469 - val_accuracy: 0.7809\n",
      "Epoch 8/100\n",
      "218/218 [==============================] - 0s 2ms/step - loss: 0.4438 - accuracy: 0.7967 - val_loss: 0.5231 - val_accuracy: 0.7545\n",
      "Epoch 9/100\n",
      "218/218 [==============================] - 0s 2ms/step - loss: 0.4420 - accuracy: 0.7972 - val_loss: 0.4540 - val_accuracy: 0.7792\n",
      "Epoch 10/100\n",
      "218/218 [==============================] - 0s 2ms/step - loss: 0.4345 - accuracy: 0.7991 - val_loss: 0.4704 - val_accuracy: 0.7792\n",
      "Epoch 11/100\n",
      "218/218 [==============================] - 0s 2ms/step - loss: 0.4352 - accuracy: 0.7995 - val_loss: 0.4510 - val_accuracy: 0.7786\n",
      "Epoch 12/100\n",
      "218/218 [==============================] - 0s 2ms/step - loss: 0.4331 - accuracy: 0.7987 - val_loss: 0.4520 - val_accuracy: 0.7775\n",
      "Epoch 13/100\n",
      "218/218 [==============================] - 0s 2ms/step - loss: 0.4329 - accuracy: 0.7929 - val_loss: 0.4469 - val_accuracy: 0.7815\n",
      "Epoch 14/100\n",
      "218/218 [==============================] - 0s 2ms/step - loss: 0.4371 - accuracy: 0.7965 - val_loss: 0.4461 - val_accuracy: 0.7855\n",
      "Epoch 15/100\n",
      "218/218 [==============================] - 0s 2ms/step - loss: 0.4280 - accuracy: 0.7987 - val_loss: 0.4705 - val_accuracy: 0.7832\n",
      "Epoch 16/100\n",
      "218/218 [==============================] - 0s 2ms/step - loss: 0.4293 - accuracy: 0.8013 - val_loss: 0.4449 - val_accuracy: 0.7849\n",
      "Epoch 17/100\n",
      "218/218 [==============================] - 0s 2ms/step - loss: 0.4352 - accuracy: 0.7991 - val_loss: 0.4471 - val_accuracy: 0.7832\n",
      "Epoch 18/100\n",
      "218/218 [==============================] - 0s 2ms/step - loss: 0.4304 - accuracy: 0.7959 - val_loss: 0.4627 - val_accuracy: 0.7838\n",
      "Epoch 19/100\n",
      "218/218 [==============================] - 0s 2ms/step - loss: 0.4314 - accuracy: 0.7997 - val_loss: 0.4602 - val_accuracy: 0.7832\n",
      "Epoch 20/100\n",
      "218/218 [==============================] - 0s 2ms/step - loss: 0.4275 - accuracy: 0.7990 - val_loss: 0.4576 - val_accuracy: 0.7849\n",
      "Epoch 21/100\n",
      "218/218 [==============================] - 0s 2ms/step - loss: 0.4285 - accuracy: 0.7987 - val_loss: 0.4387 - val_accuracy: 0.7821\n",
      "Epoch 22/100\n",
      "218/218 [==============================] - 0s 2ms/step - loss: 0.4279 - accuracy: 0.7997 - val_loss: 0.4431 - val_accuracy: 0.7890\n",
      "Epoch 23/100\n",
      "218/218 [==============================] - 0s 2ms/step - loss: 0.4298 - accuracy: 0.7961 - val_loss: 0.4500 - val_accuracy: 0.7872\n",
      "Epoch 24/100\n",
      "218/218 [==============================] - 0s 2ms/step - loss: 0.4280 - accuracy: 0.7998 - val_loss: 0.4674 - val_accuracy: 0.7872\n",
      "Epoch 25/100\n",
      "218/218 [==============================] - 0s 2ms/step - loss: 0.4325 - accuracy: 0.7978 - val_loss: 0.4497 - val_accuracy: 0.7872\n",
      "Epoch 26/100\n",
      "218/218 [==============================] - 0s 2ms/step - loss: 0.4308 - accuracy: 0.8034 - val_loss: 0.4455 - val_accuracy: 0.7901\n",
      "Epoch 27/100\n",
      "218/218 [==============================] - 0s 2ms/step - loss: 0.4283 - accuracy: 0.8000 - val_loss: 0.4454 - val_accuracy: 0.7832\n",
      "Epoch 28/100\n",
      "218/218 [==============================] - 0s 2ms/step - loss: 0.4266 - accuracy: 0.8017 - val_loss: 0.4388 - val_accuracy: 0.7901\n",
      "Epoch 29/100\n",
      "218/218 [==============================] - 0s 2ms/step - loss: 0.4261 - accuracy: 0.8026 - val_loss: 0.4407 - val_accuracy: 0.7872\n",
      "Epoch 30/100\n",
      "218/218 [==============================] - 0s 2ms/step - loss: 0.4223 - accuracy: 0.8039 - val_loss: 0.4375 - val_accuracy: 0.7826\n",
      "Epoch 31/100\n",
      "218/218 [==============================] - 0s 2ms/step - loss: 0.4222 - accuracy: 0.8034 - val_loss: 0.4393 - val_accuracy: 0.7838\n",
      "Epoch 32/100\n",
      "218/218 [==============================] - 0s 2ms/step - loss: 0.4223 - accuracy: 0.8026 - val_loss: 0.4567 - val_accuracy: 0.7872\n",
      "Epoch 33/100\n",
      "218/218 [==============================] - 0s 2ms/step - loss: 0.4245 - accuracy: 0.8070 - val_loss: 0.4473 - val_accuracy: 0.7723\n",
      "Epoch 34/100\n",
      "218/218 [==============================] - 0s 2ms/step - loss: 0.4248 - accuracy: 0.8024 - val_loss: 0.4511 - val_accuracy: 0.7803\n",
      "Epoch 35/100\n",
      "218/218 [==============================] - 0s 2ms/step - loss: 0.4252 - accuracy: 0.8027 - val_loss: 0.4411 - val_accuracy: 0.7861\n",
      "Epoch 36/100\n",
      "218/218 [==============================] - 0s 2ms/step - loss: 0.4228 - accuracy: 0.8040 - val_loss: 0.4345 - val_accuracy: 0.7907\n",
      "Epoch 37/100\n",
      "218/218 [==============================] - 0s 2ms/step - loss: 0.4225 - accuracy: 0.8056 - val_loss: 0.4459 - val_accuracy: 0.7821\n",
      "Epoch 38/100\n",
      "218/218 [==============================] - 0s 2ms/step - loss: 0.4220 - accuracy: 0.8044 - val_loss: 0.4409 - val_accuracy: 0.7895\n",
      "Epoch 39/100\n",
      "218/218 [==============================] - 0s 2ms/step - loss: 0.4197 - accuracy: 0.8034 - val_loss: 0.4388 - val_accuracy: 0.7844\n",
      "Epoch 40/100\n",
      "218/218 [==============================] - 0s 2ms/step - loss: 0.4207 - accuracy: 0.8047 - val_loss: 0.4467 - val_accuracy: 0.7861\n",
      "Epoch 41/100\n",
      "218/218 [==============================] - 0s 2ms/step - loss: 0.4205 - accuracy: 0.8037 - val_loss: 0.4435 - val_accuracy: 0.7832\n",
      "Epoch 42/100\n",
      "218/218 [==============================] - 0s 2ms/step - loss: 0.4179 - accuracy: 0.8041 - val_loss: 0.4434 - val_accuracy: 0.7872\n",
      "Epoch 43/100\n",
      "218/218 [==============================] - 0s 2ms/step - loss: 0.4195 - accuracy: 0.8046 - val_loss: 0.4372 - val_accuracy: 0.7809\n"
     ]
    }
   ],
   "source": [
    "history = model.fit(x_train, y_train, epochs = 100, verbose = 1, batch_size = 32, validation_data = (x_test, y_true), callbacks = [early])"
   ]
  },
  {
   "cell_type": "code",
   "execution_count": 103,
   "id": "ee5948ac",
   "metadata": {},
   "outputs": [
    {
     "name": "stdout",
     "output_type": "stream",
     "text": [
      "Model: \"sequential_6\"\n",
      "_________________________________________________________________\n",
      " Layer (type)                Output Shape              Param #   \n",
      "=================================================================\n",
      " dense_48 (Dense)            (None, 100)               1300      \n",
      "                                                                 \n",
      " dense_49 (Dense)            (None, 200)               20200     \n",
      "                                                                 \n",
      " dense_50 (Dense)            (None, 200)               40200     \n",
      "                                                                 \n",
      " dense_51 (Dense)            (None, 100)               20100     \n",
      "                                                                 \n",
      " dense_52 (Dense)            (None, 100)               10100     \n",
      "                                                                 \n",
      " dense_53 (Dense)            (None, 100)               10100     \n",
      "                                                                 \n",
      " dense_54 (Dense)            (None, 50)                5050      \n",
      "                                                                 \n",
      " dense_55 (Dense)            (None, 10)                510       \n",
      "                                                                 \n",
      " dense_56 (Dense)            (None, 1)                 11        \n",
      "                                                                 \n",
      "=================================================================\n",
      "Total params: 107,571\n",
      "Trainable params: 107,571\n",
      "Non-trainable params: 0\n",
      "_________________________________________________________________\n"
     ]
    }
   ],
   "source": [
    "model.summary()"
   ]
  },
  {
   "cell_type": "code",
   "execution_count": 104,
   "id": "610d3ca7",
   "metadata": {},
   "outputs": [
    {
     "name": "stdout",
     "output_type": "stream",
     "text": [
      "55/55 [==============================] - 0s 850us/step - loss: 0.4372 - accuracy: 0.7809\n"
     ]
    },
    {
     "data": {
      "text/plain": [
       "[0.4371872544288635, 0.7809085845947266]"
      ]
     },
     "execution_count": 104,
     "metadata": {},
     "output_type": "execute_result"
    }
   ],
   "source": [
    "model.evaluate(x_test, y_true)"
   ]
  },
  {
   "cell_type": "code",
   "execution_count": 107,
   "id": "fd6179f5",
   "metadata": {},
   "outputs": [
    {
     "data": {
      "image/png": "[encoded data removed]",
      "text/plain": [
       "<Figure size 432x288 with 1 Axes>"
      ]
     },
     "metadata": {
      "needs_background": "light"
     },
     "output_type": "display_data"
    }
   ],
   "source": [
    "score = pd.DataFrame(history.history)\n",
    "score.plot();"
   ]
  },
  {
   "cell_type": "code",
   "execution_count": 108,
   "id": "3eb21b56",
   "metadata": {},
   "outputs": [
    {
     "name": "stdout",
     "output_type": "stream",
     "text": [
      "272/272 [==============================] - 0s 1ms/step - loss: 0.4243 - accuracy: 0.8009\n",
      "134/134 [==============================] - 0s 742us/step\n"
     ]
    }
   ],
   "source": [
    "ml_save(model, \"DL_tahmin.csv\")"
   ]
  },
  {
   "cell_type": "markdown",
   "id": "72f1a70e",
   "metadata": {},
   "source": [
    "<img src=\"tahminler.png\" alt=\"tahminler\">"
   ]
  },
  {
   "cell_type": "markdown",
   "id": "c25556ed",
   "metadata": {},
   "source": [
    "## Yaptıklarımdan en iyi sonucu veren xgboost oldu 0.79"
   ]
  }
 ],
 "metadata": {
  "kernelspec": {
   "display_name": "Python 3 (ipykernel)",
   "language": "python",
   "name": "python3"
  },
  "language_info": {
   "codemirror_mode": {
    "name": "ipython",
    "version": 3
   },
   "file_extension": ".py",
   "mimetype": "text/x-python",
   "name": "python",
   "nbconvert_exporter": "python",
   "pygments_lexer": "ipython3",
   "version": "3.9.12"
  }
 },
 "nbformat": 4,
 "nbformat_minor": 5
}
